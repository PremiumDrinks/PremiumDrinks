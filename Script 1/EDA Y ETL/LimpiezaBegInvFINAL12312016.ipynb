{
 "cells": [
  {
   "cell_type": "code",
   "execution_count": 1,
   "metadata": {},
   "outputs": [
    {
     "name": "stdout",
     "output_type": "stream",
     "text": [
      "Requirement already satisfied: pandas in c:\\users\\bianc\\appdata\\local\\programs\\python\\python312\\lib\\site-packages (2.2.2)\n",
      "Requirement already satisfied: numpy in c:\\users\\bianc\\appdata\\local\\programs\\python\\python312\\lib\\site-packages (2.1.0)\n",
      "Requirement already satisfied: matplotlib in c:\\users\\bianc\\appdata\\local\\programs\\python\\python312\\lib\\site-packages (3.9.2)\n",
      "Requirement already satisfied: seaborn in c:\\users\\bianc\\appdata\\local\\programs\\python\\python312\\lib\\site-packages (0.13.2)\n",
      "Requirement already satisfied: python-dateutil>=2.8.2 in c:\\users\\bianc\\appdata\\roaming\\python\\python312\\site-packages (from pandas) (2.9.0.post0)\n",
      "Requirement already satisfied: pytz>=2020.1 in c:\\users\\bianc\\appdata\\local\\programs\\python\\python312\\lib\\site-packages (from pandas) (2024.1)\n",
      "Requirement already satisfied: tzdata>=2022.7 in c:\\users\\bianc\\appdata\\local\\programs\\python\\python312\\lib\\site-packages (from pandas) (2024.1)\n",
      "Requirement already satisfied: contourpy>=1.0.1 in c:\\users\\bianc\\appdata\\local\\programs\\python\\python312\\lib\\site-packages (from matplotlib) (1.3.0)\n",
      "Requirement already satisfied: cycler>=0.10 in c:\\users\\bianc\\appdata\\local\\programs\\python\\python312\\lib\\site-packages (from matplotlib) (0.12.1)\n",
      "Requirement already satisfied: fonttools>=4.22.0 in c:\\users\\bianc\\appdata\\local\\programs\\python\\python312\\lib\\site-packages (from matplotlib) (4.53.1)\n",
      "Requirement already satisfied: kiwisolver>=1.3.1 in c:\\users\\bianc\\appdata\\local\\programs\\python\\python312\\lib\\site-packages (from matplotlib) (1.4.7)\n",
      "Requirement already satisfied: packaging>=20.0 in c:\\users\\bianc\\appdata\\roaming\\python\\python312\\site-packages (from matplotlib) (24.1)\n",
      "Requirement already satisfied: pillow>=8 in c:\\users\\bianc\\appdata\\local\\programs\\python\\python312\\lib\\site-packages (from matplotlib) (10.4.0)\n",
      "Requirement already satisfied: pyparsing>=2.3.1 in c:\\users\\bianc\\appdata\\local\\programs\\python\\python312\\lib\\site-packages (from matplotlib) (3.1.4)\n",
      "Requirement already satisfied: six>=1.5 in c:\\users\\bianc\\appdata\\roaming\\python\\python312\\site-packages (from python-dateutil>=2.8.2->pandas) (1.16.0)\n"
     ]
    },
    {
     "name": "stderr",
     "output_type": "stream",
     "text": [
      "\n",
      "[notice] A new release of pip is available: 24.0 -> 24.2\n",
      "[notice] To update, run: python.exe -m pip install --upgrade pip\n"
     ]
    }
   ],
   "source": [
    "! pip install pandas numpy matplotlib seaborn"
   ]
  },
  {
   "cell_type": "code",
   "execution_count": 2,
   "metadata": {},
   "outputs": [],
   "source": [
    "! pip freeze > requirements.txt"
   ]
  },
  {
   "cell_type": "code",
   "execution_count": 3,
   "metadata": {},
   "outputs": [],
   "source": [
    "import pandas as pd\n",
    "\n",
    "# Carga del archivo CSV\n",
    "df = pd.read_csv(r'C:\\Users\\bianc\\OneDrive\\Escritorio\\proyectofinal\\BegInvFINAL12312016_Clean.csv')"
   ]
  },
  {
   "cell_type": "code",
   "execution_count": 4,
   "metadata": {},
   "outputs": [
    {
     "name": "stdout",
     "output_type": "stream",
     "text": [
      "         InventoryId  Store          City  Brand                  Description  \\\n",
      "0  1_HARDERSFIELD_58      1  HARDERSFIELD     58  Gekkeikan Black & Gold Sake   \n",
      "1  1_HARDERSFIELD_60      1  HARDERSFIELD     60       Canadian Club 1858 VAP   \n",
      "2  1_HARDERSFIELD_62      1  HARDERSFIELD     62     Herradura Silver Tequila   \n",
      "3  1_HARDERSFIELD_63      1  HARDERSFIELD     63   Herradura Reposado Tequila   \n",
      "4  1_HARDERSFIELD_72      1  HARDERSFIELD     72         No. 3 London Dry Gin   \n",
      "\n",
      "    Size  onHand  Price   startDate  \n",
      "0  750mL       8  12.99  2016-01-01  \n",
      "1  750mL       7  10.99  2016-01-01  \n",
      "2  750mL       6  36.99  2016-01-01  \n",
      "3  750mL       3  38.99  2016-01-01  \n",
      "4  750mL       6  34.99  2016-01-01  \n"
     ]
    }
   ],
   "source": [
    "print(df.head())  # Muestra las primeras filas"
   ]
  },
  {
   "cell_type": "code",
   "execution_count": 5,
   "metadata": {},
   "outputs": [],
   "source": [
    "import warnings\n",
    "warnings.filterwarnings(\"ignore\")"
   ]
  },
  {
   "cell_type": "code",
   "execution_count": 6,
   "metadata": {},
   "outputs": [],
   "source": [
    "df.rename(columns={\n",
    "   \n",
    "    'InventoryID': 'InventarioID',\n",
    "    'Store': 'Tienda',\n",
    "    'Ciudad': 'City',\n",
    "    'Brand': 'Marca',\n",
    "    'Description': 'Descripcion',\n",
    "    'onHand': 'EnLaMano',\n",
    "    'Price': 'Precio',\n",
    "    'startDate': 'FechaDeInicio'\n",
    "}, inplace=True)"
   ]
  },
  {
   "cell_type": "code",
   "execution_count": 7,
   "metadata": {},
   "outputs": [
    {
     "name": "stdout",
     "output_type": "stream",
     "text": [
      "         InventoryId  Tienda          City  Marca  \\\n",
      "0  1_HARDERSFIELD_58       1  HARDERSFIELD     58   \n",
      "1  1_HARDERSFIELD_60       1  HARDERSFIELD     60   \n",
      "2  1_HARDERSFIELD_62       1  HARDERSFIELD     62   \n",
      "3  1_HARDERSFIELD_63       1  HARDERSFIELD     63   \n",
      "4  1_HARDERSFIELD_72       1  HARDERSFIELD     72   \n",
      "\n",
      "                   Descripcion   Size  EnLaMano  Precio FechaDeInicio  \n",
      "0  Gekkeikan Black & Gold Sake  750mL         8   12.99    2016-01-01  \n",
      "1       Canadian Club 1858 VAP  750mL         7   10.99    2016-01-01  \n",
      "2     Herradura Silver Tequila  750mL         6   36.99    2016-01-01  \n",
      "3   Herradura Reposado Tequila  750mL         3   38.99    2016-01-01  \n",
      "4         No. 3 London Dry Gin  750mL         6   34.99    2016-01-01  \n"
     ]
    }
   ],
   "source": [
    "print(df.head())  # Muestra las primeras filas"
   ]
  },
  {
   "cell_type": "code",
   "execution_count": 8,
   "metadata": {},
   "outputs": [],
   "source": [
    "df.rename(columns={\n",
    "    'InventoryId': 'InventarioID',\n",
    "    \n",
    "}, inplace=True)"
   ]
  },
  {
   "cell_type": "code",
   "execution_count": 9,
   "metadata": {},
   "outputs": [
    {
     "name": "stdout",
     "output_type": "stream",
     "text": [
      "        InventarioID  Tienda          City  Marca  \\\n",
      "0  1_HARDERSFIELD_58       1  HARDERSFIELD     58   \n",
      "1  1_HARDERSFIELD_60       1  HARDERSFIELD     60   \n",
      "2  1_HARDERSFIELD_62       1  HARDERSFIELD     62   \n",
      "3  1_HARDERSFIELD_63       1  HARDERSFIELD     63   \n",
      "4  1_HARDERSFIELD_72       1  HARDERSFIELD     72   \n",
      "\n",
      "                   Descripcion   Size  EnLaMano  Precio FechaDeInicio  \n",
      "0  Gekkeikan Black & Gold Sake  750mL         8   12.99    2016-01-01  \n",
      "1       Canadian Club 1858 VAP  750mL         7   10.99    2016-01-01  \n",
      "2     Herradura Silver Tequila  750mL         6   36.99    2016-01-01  \n",
      "3   Herradura Reposado Tequila  750mL         3   38.99    2016-01-01  \n",
      "4         No. 3 London Dry Gin  750mL         6   34.99    2016-01-01  \n"
     ]
    }
   ],
   "source": [
    "print(df.head())  # Muestra las primeras filas"
   ]
  },
  {
   "cell_type": "code",
   "execution_count": 10,
   "metadata": {},
   "outputs": [],
   "source": [
    "! pip freeze > requirements.txt"
   ]
  },
  {
   "cell_type": "code",
   "execution_count": 11,
   "metadata": {},
   "outputs": [],
   "source": [
    "df.drop(columns=['Size'], inplace=True)"
   ]
  },
  {
   "cell_type": "code",
   "execution_count": 12,
   "metadata": {},
   "outputs": [
    {
     "name": "stdout",
     "output_type": "stream",
     "text": [
      "        InventarioID  Tienda          City  Marca  \\\n",
      "0  1_HARDERSFIELD_58       1  HARDERSFIELD     58   \n",
      "1  1_HARDERSFIELD_60       1  HARDERSFIELD     60   \n",
      "2  1_HARDERSFIELD_62       1  HARDERSFIELD     62   \n",
      "3  1_HARDERSFIELD_63       1  HARDERSFIELD     63   \n",
      "4  1_HARDERSFIELD_72       1  HARDERSFIELD     72   \n",
      "\n",
      "                   Descripcion  EnLaMano  Precio FechaDeInicio  \n",
      "0  Gekkeikan Black & Gold Sake         8   12.99    2016-01-01  \n",
      "1       Canadian Club 1858 VAP         7   10.99    2016-01-01  \n",
      "2     Herradura Silver Tequila         6   36.99    2016-01-01  \n",
      "3   Herradura Reposado Tequila         3   38.99    2016-01-01  \n",
      "4         No. 3 London Dry Gin         6   34.99    2016-01-01  \n"
     ]
    }
   ],
   "source": [
    "print(df.head())  # Muestra las primeras filas"
   ]
  },
  {
   "cell_type": "code",
   "execution_count": 13,
   "metadata": {},
   "outputs": [],
   "source": [
    "df.rename(columns={\n",
    "    'City': 'Ciudad'\n",
    "    \n",
    "}, inplace=True)"
   ]
  },
  {
   "cell_type": "code",
   "execution_count": 14,
   "metadata": {},
   "outputs": [
    {
     "name": "stdout",
     "output_type": "stream",
     "text": [
      "        InventarioID  Tienda        Ciudad  Marca  \\\n",
      "0  1_HARDERSFIELD_58       1  HARDERSFIELD     58   \n",
      "1  1_HARDERSFIELD_60       1  HARDERSFIELD     60   \n",
      "2  1_HARDERSFIELD_62       1  HARDERSFIELD     62   \n",
      "3  1_HARDERSFIELD_63       1  HARDERSFIELD     63   \n",
      "4  1_HARDERSFIELD_72       1  HARDERSFIELD     72   \n",
      "\n",
      "                   Descripcion  EnLaMano  Precio FechaDeInicio  \n",
      "0  Gekkeikan Black & Gold Sake         8   12.99    2016-01-01  \n",
      "1       Canadian Club 1858 VAP         7   10.99    2016-01-01  \n",
      "2     Herradura Silver Tequila         6   36.99    2016-01-01  \n",
      "3   Herradura Reposado Tequila         3   38.99    2016-01-01  \n",
      "4         No. 3 London Dry Gin         6   34.99    2016-01-01  \n"
     ]
    }
   ],
   "source": [
    "print(df.head())  # Muestra las primeras filas"
   ]
  },
  {
   "cell_type": "code",
   "execution_count": 15,
   "metadata": {},
   "outputs": [],
   "source": [
    "! pip freeze > requirements.txt"
   ]
  },
  {
   "cell_type": "code",
   "execution_count": 16,
   "metadata": {},
   "outputs": [
    {
     "name": "stdout",
     "output_type": "stream",
     "text": [
      "<class 'pandas.core.frame.DataFrame'>\n",
      "RangeIndex: 206529 entries, 0 to 206528\n",
      "Data columns (total 8 columns):\n",
      " #   Column         Non-Null Count   Dtype  \n",
      "---  ------         --------------   -----  \n",
      " 0   InventarioID   206529 non-null  object \n",
      " 1   Tienda         206529 non-null  int64  \n",
      " 2   Ciudad         206529 non-null  object \n",
      " 3   Marca          206529 non-null  int64  \n",
      " 4   Descripcion    206529 non-null  object \n",
      " 5   EnLaMano       206529 non-null  int64  \n",
      " 6   Precio         206529 non-null  float64\n",
      " 7   FechaDeInicio  206529 non-null  object \n",
      "dtypes: float64(1), int64(3), object(4)\n",
      "memory usage: 12.6+ MB\n",
      "None\n"
     ]
    }
   ],
   "source": [
    "print(df.info())  # Información de columnas y tipos de datos"
   ]
  },
  {
   "cell_type": "code",
   "execution_count": 17,
   "metadata": {},
   "outputs": [],
   "source": [
    "import numpy as np"
   ]
  },
  {
   "cell_type": "code",
   "execution_count": 18,
   "metadata": {},
   "outputs": [
    {
     "data": {
      "text/plain": [
       "(206529, 8)"
      ]
     },
     "execution_count": 18,
     "metadata": {},
     "output_type": "execute_result"
    }
   ],
   "source": [
    "np.shape(df)"
   ]
  },
  {
   "cell_type": "markdown",
   "metadata": {},
   "source": [
    "Conversión del tipo de datos:"
   ]
  },
  {
   "cell_type": "code",
   "execution_count": 20,
   "metadata": {},
   "outputs": [],
   "source": [
    "df['FechaDeInicio'] = pd.to_datetime(df['FechaDeInicio'], format='%Y-%m-%d')\n",
    "df['Tienda'] = pd.to_numeric(df['Tienda'], errors='coerce')\n",
    "df['Marca'] = pd.to_numeric(df['Marca'], errors='coerce')\n",
    "df['Precio'] = pd.to_numeric(df['Precio'], errors='coerce')\n",
    "df['EnLaMano'] = pd.to_numeric(df['EnLaMano'], errors='coerce')"
   ]
  },
  {
   "cell_type": "code",
   "execution_count": 21,
   "metadata": {},
   "outputs": [
    {
     "name": "stdout",
     "output_type": "stream",
     "text": [
      "Index(['InventarioID', 'Tienda', 'Ciudad', 'Marca', 'Descripcion', 'EnLaMano',\n",
      "       'Precio', 'FechaDeInicio'],\n",
      "      dtype='object')\n"
     ]
    }
   ],
   "source": [
    "print(df.columns)"
   ]
  },
  {
   "cell_type": "code",
   "execution_count": 22,
   "metadata": {},
   "outputs": [
    {
     "data": {
      "text/plain": [
       "InventarioID     0\n",
       "Tienda           0\n",
       "Ciudad           0\n",
       "Marca            0\n",
       "Descripcion      0\n",
       "EnLaMano         0\n",
       "Precio           0\n",
       "FechaDeInicio    0\n",
       "dtype: int64"
      ]
     },
     "execution_count": 22,
     "metadata": {},
     "output_type": "execute_result"
    }
   ],
   "source": [
    "df.isnull().sum() #busco nulos"
   ]
  },
  {
   "cell_type": "code",
   "execution_count": 23,
   "metadata": {},
   "outputs": [
    {
     "name": "stdout",
     "output_type": "stream",
     "text": [
      "Empty DataFrame\n",
      "Columns: [InventarioID, Tienda, Ciudad, Marca, Descripcion, EnLaMano, Precio, FechaDeInicio]\n",
      "Index: []\n"
     ]
    }
   ],
   "source": [
    "duplicados = df[df.duplicated()]\n",
    "\n",
    "print(duplicados)"
   ]
  },
  {
   "cell_type": "markdown",
   "metadata": {},
   "source": [
    "No se encontraron duplicados"
   ]
  },
  {
   "cell_type": "code",
   "execution_count": 24,
   "metadata": {},
   "outputs": [
    {
     "name": "stdout",
     "output_type": "stream",
     "text": [
      "<class 'pandas.core.frame.DataFrame'>\n",
      "RangeIndex: 206529 entries, 0 to 206528\n",
      "Data columns (total 8 columns):\n",
      " #   Column         Non-Null Count   Dtype         \n",
      "---  ------         --------------   -----         \n",
      " 0   InventarioID   206529 non-null  object        \n",
      " 1   Tienda         206529 non-null  int64         \n",
      " 2   Ciudad         206529 non-null  object        \n",
      " 3   Marca          206529 non-null  int64         \n",
      " 4   Descripcion    206529 non-null  object        \n",
      " 5   EnLaMano       206529 non-null  int64         \n",
      " 6   Precio         206529 non-null  float64       \n",
      " 7   FechaDeInicio  206529 non-null  datetime64[ns]\n",
      "dtypes: datetime64[ns](1), float64(1), int64(3), object(3)\n",
      "memory usage: 12.6+ MB\n",
      "None\n"
     ]
    }
   ],
   "source": [
    "print(df.info())  # Información de columnas y tipos de datos"
   ]
  },
  {
   "cell_type": "code",
   "execution_count": 25,
   "metadata": {},
   "outputs": [
    {
     "name": "stdout",
     "output_type": "stream",
     "text": [
      "Requirement already satisfied: sqlalchemy in c:\\users\\bianc\\appdata\\local\\programs\\python\\python312\\lib\\site-packages (2.0.35)\n",
      "Requirement already satisfied: pyodbc in c:\\users\\bianc\\appdata\\local\\programs\\python\\python312\\lib\\site-packages (5.1.0)\n",
      "Requirement already satisfied: typing-extensions>=4.6.0 in c:\\users\\bianc\\appdata\\local\\programs\\python\\python312\\lib\\site-packages (from sqlalchemy) (4.12.2)\n",
      "Requirement already satisfied: greenlet!=0.4.17 in c:\\users\\bianc\\appdata\\local\\programs\\python\\python312\\lib\\site-packages (from sqlalchemy) (3.1.1)\n",
      "Note: you may need to restart the kernel to use updated packages.\n"
     ]
    },
    {
     "name": "stderr",
     "output_type": "stream",
     "text": [
      "\n",
      "[notice] A new release of pip is available: 24.0 -> 24.2\n",
      "[notice] To update, run: python.exe -m pip install --upgrade pip\n"
     ]
    }
   ],
   "source": [
    "pip install sqlalchemy pyodbc"
   ]
  },
  {
   "cell_type": "code",
   "execution_count": 26,
   "metadata": {},
   "outputs": [
    {
     "name": "stdout",
     "output_type": "stream",
     "text": [
      "Tienda\n",
      "Mediana: 42.0\n",
      "Varianza:  537.84\n",
      "Rango: 78\n",
      "Moda: 34\n",
      "--------------------------------\n",
      "Marca\n",
      "Mediana: 8010.0\n",
      "Varianza:  170548695.08\n",
      "Rango: 90032\n",
      "Moda: 77\n",
      "--------------------------------\n",
      "EnLaMano\n",
      "Mediana: 12.0\n",
      "Varianza:  990.19\n",
      "Rango: 1251\n",
      "Moda: 12\n",
      "--------------------------------\n",
      "Precio\n",
      "Mediana: 14.99\n",
      "Varianza:  4925.09\n",
      "Rango: 13999.9\n",
      "Moda: 9.99\n",
      "--------------------------------\n"
     ]
    }
   ],
   "source": [
    "def calcular_estadisticas(data): \n",
    "    for columna in data.columns:\n",
    "        if data[columna].dtype == 'float64' or data[columna].dtype == 'int64':\n",
    "            print(columna)\n",
    "            print('Mediana:', data[columna].median())\n",
    "            print('Varianza: ', np.around((data[columna].var()),decimals=2)) # Casteo (redondeo) a 2 decimales\n",
    "            print('Rango:', data[columna].max() - data[columna].min())\n",
    "            print('Moda:', data[columna].mode()[0])\n",
    "            print('--------------------------------')\n",
    "\n",
    "calcular_estadisticas(df)"
   ]
  },
  {
   "cell_type": "code",
   "execution_count": 27,
   "metadata": {},
   "outputs": [],
   "source": [
    "# Guardar el DataFrame transformado\n",
    "df.to_csv(r'C:\\Users\\bianc\\OneDrive\\Escritorio\\proyectofinal\\LimpiezaBegInvFINAL12312016', index=False)   "
   ]
  },
  {
   "cell_type": "code",
   "execution_count": 28,
   "metadata": {},
   "outputs": [],
   "source": [
    "#carga archivo csv\n",
    "df2 = pd.read_csv(r'C:\\Users\\bianc\\OneDrive\\Escritorio\\proyectofinal\\LimpiezaBegInvFINAL12312016')"
   ]
  },
  {
   "cell_type": "code",
   "execution_count": 29,
   "metadata": {},
   "outputs": [
    {
     "name": "stdout",
     "output_type": "stream",
     "text": [
      "<class 'pandas.core.frame.DataFrame'>\n",
      "RangeIndex: 206529 entries, 0 to 206528\n",
      "Data columns (total 8 columns):\n",
      " #   Column         Non-Null Count   Dtype  \n",
      "---  ------         --------------   -----  \n",
      " 0   InventarioID   206529 non-null  object \n",
      " 1   Tienda         206529 non-null  int64  \n",
      " 2   Ciudad         206529 non-null  object \n",
      " 3   Marca          206529 non-null  int64  \n",
      " 4   Descripcion    206529 non-null  object \n",
      " 5   EnLaMano       206529 non-null  int64  \n",
      " 6   Precio         206529 non-null  float64\n",
      " 7   FechaDeInicio  206529 non-null  object \n",
      "dtypes: float64(1), int64(3), object(4)\n",
      "memory usage: 12.6+ MB\n",
      "None\n"
     ]
    }
   ],
   "source": [
    "print(df2.info()) "
   ]
  },
  {
   "cell_type": "code",
   "execution_count": 31,
   "metadata": {},
   "outputs": [
    {
     "name": "stdout",
     "output_type": "stream",
     "text": [
      "Datos exportados exitosamente a la tabla InventarioInicial en la base de datos PremiumDrinks\n"
     ]
    }
   ],
   "source": [
    "import pyodbc\n",
    "import pandas as pd\n",
    "from sqlalchemy import create_engine, types\n",
    "\n",
    "InventarioInicial_df = pd.read_csv(r'C:\\Users\\bianc\\OneDrive\\Escritorio\\proyectofinal\\LimpiezaBegInvFINAL12312016')\n",
    "# Asegurar que las columnas tengan los tipos de datos correctos\n",
    "InventarioInicial_df['InventarioID'] = InventarioInicial_df['InventarioID'].astype(str)  # Convertir a string para usar VARCHAR en SQL\n",
    "InventarioInicial_df['FechaDeInicio'] = pd.to_datetime(InventarioInicial_df['FechaDeInicio']) \n",
    "\n",
    "\n",
    "# Crear la conexión con SQL Server usando autenticación de Windows\n",
    "# Usando el nombre del servidor SQLEXPRESS y Trusted Connection\n",
    "engine = create_engine('mssql+pyodbc://BIANCA\\SQLEXPRESS/PremiumDrinks?trusted_connection=yes&driver=ODBC+Driver+18+for+SQL+Server&TrustServerCertificate=yes')\n",
    "\n",
    "# Especificar los tipos de datos para cada columna en SQL Server\n",
    "dtype_sql = {\n",
    "    'InventarioID': types.VARCHAR(length=255),  # VARCHAR en SQL Server para InventarioID\n",
    "    'Tienda': types.INTEGER,  # INTEGER para la columna Tienda\n",
    "    'Ciudad': types.VARCHAR(length=255),  # VARCHAR para la columna Ciudad\n",
    "    'Marca': types.INTEGER,  # INTEGER para la columna Marca\n",
    "    'Descripcion': types.VARCHAR(length=255),  # VARCHAR para la columna Descripcion\n",
    "    'EnLaMano': types.INTEGER,  # INTEGER para la columna EnLaMano\n",
    "    'Precio': types.FLOAT,  # FLOAT para la columna Precio\n",
    "    'FechaDeInicio': types.DATETIME  # DATETIME para la columna FechaDeCierre\n",
    "}\n",
    "\n",
    "# Exportar el DataFrame a una tabla SQL llamada FechadeInicio\n",
    "InventarioInicial_df.to_sql('InventarioInicial', con=engine, if_exists='replace', index=False, dtype=dtype_sql)\n",
    "\n",
    "print(\"Datos exportados exitosamente a la tabla InventarioInicial en la base de datos PremiumDrinks\")"
   ]
  }
 ],
 "metadata": {
  "kernelspec": {
   "display_name": "Python 3",
   "language": "python",
   "name": "python3"
  },
  "language_info": {
   "codemirror_mode": {
    "name": "ipython",
    "version": 3
   },
   "file_extension": ".py",
   "mimetype": "text/x-python",
   "name": "python",
   "nbconvert_exporter": "python",
   "pygments_lexer": "ipython3",
   "version": "3.12.2"
  }
 },
 "nbformat": 4,
 "nbformat_minor": 2
}
