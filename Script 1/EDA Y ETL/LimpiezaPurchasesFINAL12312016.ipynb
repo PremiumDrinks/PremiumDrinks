{
 "cells": [
  {
   "cell_type": "code",
   "execution_count": 1,
   "metadata": {},
   "outputs": [
    {
     "name": "stdout",
     "output_type": "stream",
     "text": [
      "Requirement already satisfied: pandas in c:\\users\\bianc\\appdata\\local\\programs\\python\\python312\\lib\\site-packages (2.2.2)\n",
      "Requirement already satisfied: numpy in c:\\users\\bianc\\appdata\\local\\programs\\python\\python312\\lib\\site-packages (2.1.0)\n",
      "Requirement already satisfied: matplotlib in c:\\users\\bianc\\appdata\\local\\programs\\python\\python312\\lib\\site-packages (3.9.2)\n",
      "Requirement already satisfied: seaborn in c:\\users\\bianc\\appdata\\local\\programs\\python\\python312\\lib\\site-packages (0.13.2)\n",
      "Requirement already satisfied: python-dateutil>=2.8.2 in c:\\users\\bianc\\appdata\\roaming\\python\\python312\\site-packages (from pandas) (2.9.0.post0)\n",
      "Requirement already satisfied: pytz>=2020.1 in c:\\users\\bianc\\appdata\\local\\programs\\python\\python312\\lib\\site-packages (from pandas) (2024.1)\n",
      "Requirement already satisfied: tzdata>=2022.7 in c:\\users\\bianc\\appdata\\local\\programs\\python\\python312\\lib\\site-packages (from pandas) (2024.1)\n",
      "Requirement already satisfied: contourpy>=1.0.1 in c:\\users\\bianc\\appdata\\local\\programs\\python\\python312\\lib\\site-packages (from matplotlib) (1.3.0)\n",
      "Requirement already satisfied: cycler>=0.10 in c:\\users\\bianc\\appdata\\local\\programs\\python\\python312\\lib\\site-packages (from matplotlib) (0.12.1)\n",
      "Requirement already satisfied: fonttools>=4.22.0 in c:\\users\\bianc\\appdata\\local\\programs\\python\\python312\\lib\\site-packages (from matplotlib) (4.53.1)\n",
      "Requirement already satisfied: kiwisolver>=1.3.1 in c:\\users\\bianc\\appdata\\local\\programs\\python\\python312\\lib\\site-packages (from matplotlib) (1.4.7)\n",
      "Requirement already satisfied: packaging>=20.0 in c:\\users\\bianc\\appdata\\roaming\\python\\python312\\site-packages (from matplotlib) (24.1)\n",
      "Requirement already satisfied: pillow>=8 in c:\\users\\bianc\\appdata\\local\\programs\\python\\python312\\lib\\site-packages (from matplotlib) (10.4.0)\n",
      "Requirement already satisfied: pyparsing>=2.3.1 in c:\\users\\bianc\\appdata\\local\\programs\\python\\python312\\lib\\site-packages (from matplotlib) (3.1.4)\n",
      "Requirement already satisfied: six>=1.5 in c:\\users\\bianc\\appdata\\roaming\\python\\python312\\site-packages (from python-dateutil>=2.8.2->pandas) (1.16.0)\n"
     ]
    },
    {
     "name": "stderr",
     "output_type": "stream",
     "text": [
      "\n",
      "[notice] A new release of pip is available: 24.0 -> 24.2\n",
      "[notice] To update, run: python.exe -m pip install --upgrade pip\n"
     ]
    }
   ],
   "source": [
    "! pip install pandas numpy matplotlib seaborn"
   ]
  },
  {
   "cell_type": "code",
   "execution_count": 2,
   "metadata": {},
   "outputs": [],
   "source": [
    "! pip freeze > requirements.txt"
   ]
  },
  {
   "cell_type": "markdown",
   "metadata": {},
   "source": [
    "Carga del archivo CSV en un Dataframe de Pandas:"
   ]
  },
  {
   "cell_type": "code",
   "execution_count": 3,
   "metadata": {},
   "outputs": [],
   "source": [
    "import pandas as pd\n",
    "\n",
    "# Carga del archivo CSV\n",
    "df = pd.read_csv(r'C:\\Users\\bianc\\OneDrive\\Escritorio\\proyectofinal\\PurchasesFINAL12312016_Clean.csv')"
   ]
  },
  {
   "cell_type": "code",
   "execution_count": 4,
   "metadata": {},
   "outputs": [
    {
     "name": "stdout",
     "output_type": "stream",
     "text": [
      "           InventoryId  Store  Brand                   Description   Size  \\\n",
      "0    69_MOUNTMEND_8412     69   8412     Tequila Ocho Plata Fresno  750mL   \n",
      "1     30_CULCHETH_5255     30   5255  TGI Fridays Ultimte Mudslide  1.75L   \n",
      "2    34_PITMERDEN_5215     34   5215  TGI Fridays Long Island Iced  1.75L   \n",
      "3  1_HARDERSFIELD_5255      1   5255  TGI Fridays Ultimte Mudslide  1.75L   \n",
      "4    76_DONCASTER_2034     76   2034     Glendalough Double Barrel  750mL   \n",
      "\n",
      "   VendorNumber                   VendorName  PONumber      PODate  \\\n",
      "0           105  ALTAMAR BRANDS LLC               8124  2015-12-21   \n",
      "1          4466  AMERICAN VINTAGE BEVERAGE        8137  2015-12-22   \n",
      "2          4466  AMERICAN VINTAGE BEVERAGE        8137  2015-12-22   \n",
      "3          4466  AMERICAN VINTAGE BEVERAGE        8137  2015-12-22   \n",
      "4           388  ATLANTIC IMPORTING COMPANY       8169  2015-12-24   \n",
      "\n",
      "  ReceivingDate InvoiceDate     PayDate  PurchasePrice  Quantity  Dollars  \\\n",
      "0    2016-01-02  2016-01-04  2016-02-16          35.71         6   214.26   \n",
      "1    2016-01-01  2016-01-07  2016-02-21           9.35         4    37.40   \n",
      "2    2016-01-02  2016-01-07  2016-02-21           9.41         5    47.05   \n",
      "3    2016-01-01  2016-01-07  2016-02-21           9.35         6    56.10   \n",
      "4    2016-01-02  2016-01-09  2016-02-16          21.32         5   106.60   \n",
      "\n",
      "   Classification  \n",
      "0               1  \n",
      "1               1  \n",
      "2               1  \n",
      "3               1  \n",
      "4               1  \n"
     ]
    }
   ],
   "source": [
    "print(df.head())  # Muestra las primeras filas"
   ]
  },
  {
   "cell_type": "code",
   "execution_count": 5,
   "metadata": {},
   "outputs": [],
   "source": [
    "import warnings\n",
    "warnings.filterwarnings(\"ignore\")"
   ]
  },
  {
   "cell_type": "code",
   "execution_count": 11,
   "metadata": {},
   "outputs": [],
   "source": [
    "df.rename(columns={\n",
    "    'InventoryId': 'InventarioID',\n",
    "    'Store': 'Tienda',\n",
    "    'Brand': 'Marca',\n",
    "    'Description': 'Descripción',\n",
    "    'Size': 'Tamaño',\n",
    "    'VendorNumber': 'NúmeroProveedor',\n",
    "    'VendorName': 'NombreProveedor',\n",
    "    'PONumber': 'NúmeroOrdendeCompra',\n",
    "    'PODate': 'FechaPedido',\n",
    "    'ReceivingDate': 'FechaRecepción',\n",
    "    'InvoiceDate': 'FechaFactura',\n",
    "    'PayDate': 'FechaPago',\n",
    "    'PurchasePrice': 'PrecioCompra',\n",
    "    'Quantity': 'Cantidad',\n",
    "    'Dollars': 'Dólares',\n",
    "    'Classification': 'Clasificación'\n",
    "}, inplace=True)"
   ]
  },
  {
   "cell_type": "code",
   "execution_count": 12,
   "metadata": {},
   "outputs": [
    {
     "name": "stdout",
     "output_type": "stream",
     "text": [
      "          InventarioID  Tienda  Marca                   Descripción Tamaño  \\\n",
      "0    69_MOUNTMEND_8412      69   8412     Tequila Ocho Plata Fresno  750mL   \n",
      "1     30_CULCHETH_5255      30   5255  TGI Fridays Ultimte Mudslide  1.75L   \n",
      "2    34_PITMERDEN_5215      34   5215  TGI Fridays Long Island Iced  1.75L   \n",
      "3  1_HARDERSFIELD_5255       1   5255  TGI Fridays Ultimte Mudslide  1.75L   \n",
      "4    76_DONCASTER_2034      76   2034     Glendalough Double Barrel  750mL   \n",
      "\n",
      "   NúmeroProveedor              NombreProveedor  NúmeroPedido FechaPedido  \\\n",
      "0              105  ALTAMAR BRANDS LLC                   8124  2015-12-21   \n",
      "1             4466  AMERICAN VINTAGE BEVERAGE            8137  2015-12-22   \n",
      "2             4466  AMERICAN VINTAGE BEVERAGE            8137  2015-12-22   \n",
      "3             4466  AMERICAN VINTAGE BEVERAGE            8137  2015-12-22   \n",
      "4              388  ATLANTIC IMPORTING COMPANY           8169  2015-12-24   \n",
      "\n",
      "  FechaRecepción FechaFactura   FechaPago  PrecioCompra  Cantidad  Dólares  \\\n",
      "0     2016-01-02   2016-01-04  2016-02-16         35.71         6   214.26   \n",
      "1     2016-01-01   2016-01-07  2016-02-21          9.35         4    37.40   \n",
      "2     2016-01-02   2016-01-07  2016-02-21          9.41         5    47.05   \n",
      "3     2016-01-01   2016-01-07  2016-02-21          9.35         6    56.10   \n",
      "4     2016-01-02   2016-01-09  2016-02-16         21.32         5   106.60   \n",
      "\n",
      "   Clasificación  \n",
      "0              1  \n",
      "1              1  \n",
      "2              1  \n",
      "3              1  \n",
      "4              1  \n"
     ]
    }
   ],
   "source": [
    "print(df.head())  # Muestra las primeras filas"
   ]
  },
  {
   "cell_type": "code",
   "execution_count": 14,
   "metadata": {},
   "outputs": [],
   "source": [
    "df.rename(columns={\n",
    "    'NúmeroPedido': 'NumerodeOrdendeCompra',\n",
    "    \n",
    "}, inplace=True)"
   ]
  },
  {
   "cell_type": "code",
   "execution_count": 15,
   "metadata": {},
   "outputs": [
    {
     "name": "stdout",
     "output_type": "stream",
     "text": [
      "          InventarioID  Tienda  Marca                   Descripción Tamaño  \\\n",
      "0    69_MOUNTMEND_8412      69   8412     Tequila Ocho Plata Fresno  750mL   \n",
      "1     30_CULCHETH_5255      30   5255  TGI Fridays Ultimte Mudslide  1.75L   \n",
      "2    34_PITMERDEN_5215      34   5215  TGI Fridays Long Island Iced  1.75L   \n",
      "3  1_HARDERSFIELD_5255       1   5255  TGI Fridays Ultimte Mudslide  1.75L   \n",
      "4    76_DONCASTER_2034      76   2034     Glendalough Double Barrel  750mL   \n",
      "\n",
      "   NúmeroProveedor              NombreProveedor  NumerodeOrdendeCompra  \\\n",
      "0              105  ALTAMAR BRANDS LLC                            8124   \n",
      "1             4466  AMERICAN VINTAGE BEVERAGE                     8137   \n",
      "2             4466  AMERICAN VINTAGE BEVERAGE                     8137   \n",
      "3             4466  AMERICAN VINTAGE BEVERAGE                     8137   \n",
      "4              388  ATLANTIC IMPORTING COMPANY                    8169   \n",
      "\n",
      "  FechaPedido FechaRecepción FechaFactura   FechaPago  PrecioCompra  Cantidad  \\\n",
      "0  2015-12-21     2016-01-02   2016-01-04  2016-02-16         35.71         6   \n",
      "1  2015-12-22     2016-01-01   2016-01-07  2016-02-21          9.35         4   \n",
      "2  2015-12-22     2016-01-02   2016-01-07  2016-02-21          9.41         5   \n",
      "3  2015-12-22     2016-01-01   2016-01-07  2016-02-21          9.35         6   \n",
      "4  2015-12-24     2016-01-02   2016-01-09  2016-02-16         21.32         5   \n",
      "\n",
      "   Dólares  Clasificación  \n",
      "0   214.26              1  \n",
      "1    37.40              1  \n",
      "2    47.05              1  \n",
      "3    56.10              1  \n",
      "4   106.60              1  \n"
     ]
    }
   ],
   "source": [
    "print(df.head())  # Muestra las primeras filas"
   ]
  },
  {
   "cell_type": "code",
   "execution_count": 16,
   "metadata": {},
   "outputs": [],
   "source": [
    "df.rename(columns={\n",
    "    'FechaPedido': 'FechaCompra',\n",
    "    \n",
    "}, inplace=True)"
   ]
  },
  {
   "cell_type": "markdown",
   "metadata": {},
   "source": [
    "Elimino las columnas que no voy a utilizar:"
   ]
  },
  {
   "cell_type": "code",
   "execution_count": 18,
   "metadata": {},
   "outputs": [],
   "source": [
    "df.drop(columns=['Tamaño', 'NombreProveedor', 'PrecioCompra', 'Cantidad', 'Dólares', 'Clasificación'], inplace=True)"
   ]
  },
  {
   "cell_type": "code",
   "execution_count": 19,
   "metadata": {},
   "outputs": [
    {
     "name": "stdout",
     "output_type": "stream",
     "text": [
      "          InventarioID  Tienda  Marca                   Descripción  \\\n",
      "0    69_MOUNTMEND_8412      69   8412     Tequila Ocho Plata Fresno   \n",
      "1     30_CULCHETH_5255      30   5255  TGI Fridays Ultimte Mudslide   \n",
      "2    34_PITMERDEN_5215      34   5215  TGI Fridays Long Island Iced   \n",
      "3  1_HARDERSFIELD_5255       1   5255  TGI Fridays Ultimte Mudslide   \n",
      "4    76_DONCASTER_2034      76   2034     Glendalough Double Barrel   \n",
      "\n",
      "   NúmeroProveedor  NumerodeOrdendeCompra FechaCompra FechaRecepción  \\\n",
      "0              105                   8124  2015-12-21     2016-01-02   \n",
      "1             4466                   8137  2015-12-22     2016-01-01   \n",
      "2             4466                   8137  2015-12-22     2016-01-02   \n",
      "3             4466                   8137  2015-12-22     2016-01-01   \n",
      "4              388                   8169  2015-12-24     2016-01-02   \n",
      "\n",
      "  FechaFactura   FechaPago  \n",
      "0   2016-01-04  2016-02-16  \n",
      "1   2016-01-07  2016-02-21  \n",
      "2   2016-01-07  2016-02-21  \n",
      "3   2016-01-07  2016-02-21  \n",
      "4   2016-01-09  2016-02-16  \n"
     ]
    }
   ],
   "source": [
    "print(df.head())  # Muestra las primeras filas"
   ]
  },
  {
   "cell_type": "code",
   "execution_count": 20,
   "metadata": {},
   "outputs": [],
   "source": [
    "! pip freeze > requirements.txt"
   ]
  },
  {
   "cell_type": "code",
   "execution_count": 21,
   "metadata": {},
   "outputs": [
    {
     "name": "stdout",
     "output_type": "stream",
     "text": [
      "<class 'pandas.core.frame.DataFrame'>\n",
      "RangeIndex: 2372474 entries, 0 to 2372473\n",
      "Data columns (total 10 columns):\n",
      " #   Column                 Dtype \n",
      "---  ------                 ----- \n",
      " 0   InventarioID           object\n",
      " 1   Tienda                 int64 \n",
      " 2   Marca                  int64 \n",
      " 3   Descripción            object\n",
      " 4   NúmeroProveedor        int64 \n",
      " 5   NumerodeOrdendeCompra  int64 \n",
      " 6   FechaCompra            object\n",
      " 7   FechaRecepción         object\n",
      " 8   FechaFactura           object\n",
      " 9   FechaPago              object\n",
      "dtypes: int64(4), object(6)\n",
      "memory usage: 181.0+ MB\n",
      "None\n"
     ]
    }
   ],
   "source": [
    "print(df.info())  # Información de columnas y tipos de datos"
   ]
  },
  {
   "cell_type": "markdown",
   "metadata": {},
   "source": [
    "Visualización del tamaño del Dataframe (Filas y Columnas):"
   ]
  },
  {
   "cell_type": "code",
   "execution_count": 22,
   "metadata": {},
   "outputs": [],
   "source": [
    "import numpy as np"
   ]
  },
  {
   "cell_type": "code",
   "execution_count": 23,
   "metadata": {},
   "outputs": [
    {
     "data": {
      "text/plain": [
       "(2372474, 10)"
      ]
     },
     "execution_count": 23,
     "metadata": {},
     "output_type": "execute_result"
    }
   ],
   "source": [
    "np.shape(df)"
   ]
  },
  {
   "cell_type": "markdown",
   "metadata": {},
   "source": [
    "Conversión del tipo de datos:"
   ]
  },
  {
   "cell_type": "code",
   "execution_count": 28,
   "metadata": {},
   "outputs": [],
   "source": [
    "df['FechaCompra'] = pd.to_datetime(df['FechaCompra'], format='%Y-%m-%d')\n",
    "df['FechaRecepción'] = pd.to_datetime(df['FechaRecepción'], format='%Y-%m-%d')\n",
    "df['FechaFactura'] = pd.to_datetime(df['FechaFactura'], format='%Y-%m-%d')\n",
    "df['FechaPago'] = pd.to_datetime(df['FechaPago'], format='%Y-%m-%d')\n",
    "df['Tienda'] = pd.to_numeric(df['Tienda'], errors='coerce')\n",
    "df['Marca'] = pd.to_numeric(df['Marca'], errors='coerce')\n",
    "df['NúmeroProveedor'] = pd.to_numeric(df['NúmeroProveedor'], errors='coerce')\n",
    "df['NumerodeOrdendeCompra'] = pd.to_numeric(df['NumerodeOrdendeCompra'], errors='coerce')\n"
   ]
  },
  {
   "cell_type": "code",
   "execution_count": 25,
   "metadata": {},
   "outputs": [
    {
     "name": "stdout",
     "output_type": "stream",
     "text": [
      "Index(['InventarioID', 'Tienda', 'Marca', 'Descripción', 'NúmeroProveedor',\n",
      "       'NumerodeOrdendeCompra', 'FechaCompra', 'FechaRecepción',\n",
      "       'FechaFactura', 'FechaPago'],\n",
      "      dtype='object')\n"
     ]
    }
   ],
   "source": [
    "print(df.columns)"
   ]
  },
  {
   "cell_type": "code",
   "execution_count": 29,
   "metadata": {},
   "outputs": [
    {
     "data": {
      "text/plain": [
       "InventarioID             0\n",
       "Tienda                   0\n",
       "Marca                    0\n",
       "Descripción              0\n",
       "NúmeroProveedor          0\n",
       "NumerodeOrdendeCompra    0\n",
       "FechaCompra              0\n",
       "FechaRecepción           0\n",
       "FechaFactura             0\n",
       "FechaPago                0\n",
       "dtype: int64"
      ]
     },
     "execution_count": 29,
     "metadata": {},
     "output_type": "execute_result"
    }
   ],
   "source": [
    "df.isnull().sum() #busco nulos"
   ]
  },
  {
   "cell_type": "code",
   "execution_count": 30,
   "metadata": {},
   "outputs": [
    {
     "name": "stdout",
     "output_type": "stream",
     "text": [
      "Empty DataFrame\n",
      "Columns: [InventarioID, Tienda, Marca, Descripción, NúmeroProveedor, NumerodeOrdendeCompra, FechaCompra, FechaRecepción, FechaFactura, FechaPago]\n",
      "Index: []\n"
     ]
    }
   ],
   "source": [
    "duplicados = df[df.duplicated()]\n",
    "\n",
    "print(duplicados)"
   ]
  },
  {
   "cell_type": "markdown",
   "metadata": {},
   "source": [
    "No se encontraron duplicados"
   ]
  },
  {
   "cell_type": "code",
   "execution_count": 31,
   "metadata": {},
   "outputs": [
    {
     "name": "stdout",
     "output_type": "stream",
     "text": [
      "<class 'pandas.core.frame.DataFrame'>\n",
      "RangeIndex: 2372474 entries, 0 to 2372473\n",
      "Data columns (total 10 columns):\n",
      " #   Column                 Dtype         \n",
      "---  ------                 -----         \n",
      " 0   InventarioID           object        \n",
      " 1   Tienda                 int64         \n",
      " 2   Marca                  int64         \n",
      " 3   Descripción            object        \n",
      " 4   NúmeroProveedor        int64         \n",
      " 5   NumerodeOrdendeCompra  int64         \n",
      " 6   FechaCompra            datetime64[ns]\n",
      " 7   FechaRecepción         datetime64[ns]\n",
      " 8   FechaFactura           datetime64[ns]\n",
      " 9   FechaPago              datetime64[ns]\n",
      "dtypes: datetime64[ns](4), int64(4), object(2)\n",
      "memory usage: 181.0+ MB\n",
      "None\n"
     ]
    }
   ],
   "source": [
    "print(df.info())  # Información de columnas y tipos de datos"
   ]
  },
  {
   "cell_type": "code",
   "execution_count": 32,
   "metadata": {},
   "outputs": [],
   "source": [
    "import matplotlib.pyplot as plt\n",
    "import seaborn as sns"
   ]
  },
  {
   "cell_type": "code",
   "execution_count": 38,
   "metadata": {},
   "outputs": [
    {
     "data": {
      "image/png": "[encoded data removed]",
      "text/plain": [
       "<Figure size 1200x600 with 1 Axes>"
      ]
     },
     "metadata": {},
     "output_type": "display_data"
    }
   ],
   "source": [
    "df['DíasEntreCompraYPago'] = (df['FechaPago'] - df['FechaCompra']).dt.days\n",
    "\n",
    "plt.figure(figsize=(12,6))\n",
    "sns.histplot(df['DíasEntreCompraYPago'], bins=30)\n",
    "plt.title('Días entre la Fecha de Compra y Fecha de Pago')\n",
    "plt.show()"
   ]
  },
  {
   "cell_type": "code",
   "execution_count": 40,
   "metadata": {},
   "outputs": [
    {
     "name": "stdout",
     "output_type": "stream",
     "text": [
      "Note: you may need to restart the kernel to use updated packages.Requirement already satisfied: sqlalchemy in c:\\users\\bianc\\appdata\\local\\programs\\python\\python312\\lib\\site-packages (2.0.35)\n",
      "Requirement already satisfied: pyodbc in c:\\users\\bianc\\appdata\\local\\programs\\python\\python312\\lib\\site-packages (5.1.0)\n",
      "Requirement already satisfied: typing-extensions>=4.6.0 in c:\\users\\bianc\\appdata\\local\\programs\\python\\python312\\lib\\site-packages (from sqlalchemy) (4.12.2)\n",
      "Requirement already satisfied: greenlet!=0.4.17 in c:\\users\\bianc\\appdata\\local\\programs\\python\\python312\\lib\\site-packages (from sqlalchemy) (3.1.1)\n",
      "\n"
     ]
    },
    {
     "name": "stderr",
     "output_type": "stream",
     "text": [
      "\n",
      "[notice] A new release of pip is available: 24.0 -> 24.2\n",
      "[notice] To update, run: python.exe -m pip install --upgrade pip\n"
     ]
    }
   ],
   "source": [
    "pip install sqlalchemy pyodbc"
   ]
  },
  {
   "cell_type": "code",
   "execution_count": 41,
   "metadata": {},
   "outputs": [
    {
     "name": "stdout",
     "output_type": "stream",
     "text": [
      "Tienda\n",
      "Mediana: 48.0\n",
      "Varianza:  552.84\n",
      "Rango: 80\n",
      "Moda: 76\n",
      "--------------------------------\n",
      "Marca\n",
      "Mediana: 6523.0\n",
      "Varianza:  157685239.09\n",
      "Rango: 90573\n",
      "Moda: 8068\n",
      "--------------------------------\n",
      "NúmeroProveedor\n",
      "Mediana: 4425.0\n",
      "Varianza:  65071550.33\n",
      "Rango: 201357\n",
      "Moda: 3960\n",
      "--------------------------------\n",
      "NumerodeOrdendeCompra\n",
      "Mediana: 11103.0\n",
      "Varianza:  2450290.01\n",
      "Rango: 5555\n",
      "Moda: 10936\n",
      "--------------------------------\n",
      "DíasEntreCompraYPago\n",
      "Mediana: 52.0\n",
      "Varianza:  31.11\n",
      "Rango: 23\n",
      "Moda: 58\n",
      "--------------------------------\n"
     ]
    }
   ],
   "source": [
    "def calcular_estadisticas(data): \n",
    "    for columna in data.columns:\n",
    "        if data[columna].dtype == 'float64' or data[columna].dtype == 'int64':\n",
    "            print(columna)\n",
    "            print('Mediana:', data[columna].median())\n",
    "            print('Varianza: ', np.around((data[columna].var()),decimals=2)) # Casteo (redondeo) a 2 decimales\n",
    "            print('Rango:', data[columna].max() - data[columna].min())\n",
    "            print('Moda:', data[columna].mode()[0])\n",
    "            print('--------------------------------')\n",
    "\n",
    "calcular_estadisticas(df)"
   ]
  },
  {
   "cell_type": "code",
   "execution_count": 42,
   "metadata": {},
   "outputs": [],
   "source": [
    "# Guardar el DataFrame transformado\n",
    "df.to_csv(r'C:\\Users\\bianc\\OneDrive\\Escritorio\\proyectofinal\\LimpiezaPurchasesFINAL12312016', index=False)   "
   ]
  },
  {
   "cell_type": "code",
   "execution_count": 43,
   "metadata": {},
   "outputs": [],
   "source": [
    "#carga archivo csv\n",
    "df2 = pd.read_csv(r'C:\\Users\\bianc\\OneDrive\\Escritorio\\proyectofinal\\LimpiezaPurchasesFINAL12312016')"
   ]
  },
  {
   "cell_type": "code",
   "execution_count": 44,
   "metadata": {},
   "outputs": [
    {
     "name": "stdout",
     "output_type": "stream",
     "text": [
      "<class 'pandas.core.frame.DataFrame'>\n",
      "RangeIndex: 2372474 entries, 0 to 2372473\n",
      "Data columns (total 11 columns):\n",
      " #   Column                 Dtype \n",
      "---  ------                 ----- \n",
      " 0   InventarioID           object\n",
      " 1   Tienda                 int64 \n",
      " 2   Marca                  int64 \n",
      " 3   Descripción            object\n",
      " 4   NúmeroProveedor        int64 \n",
      " 5   NumerodeOrdendeCompra  int64 \n",
      " 6   FechaCompra            object\n",
      " 7   FechaRecepción         object\n",
      " 8   FechaFactura           object\n",
      " 9   FechaPago              object\n",
      " 10  DíasEntreCompraYPago   int64 \n",
      "dtypes: int64(5), object(6)\n",
      "memory usage: 199.1+ MB\n",
      "None\n"
     ]
    }
   ],
   "source": [
    "print(df2.info()) "
   ]
  },
  {
   "cell_type": "code",
   "execution_count": 1,
   "metadata": {},
   "outputs": [
    {
     "name": "stderr",
     "output_type": "stream",
     "text": [
      "<>:16: SyntaxWarning: invalid escape sequence '\\S'\n",
      "<>:16: SyntaxWarning: invalid escape sequence '\\S'\n",
      "C:\\Users\\bianc\\AppData\\Local\\Temp\\ipykernel_14648\\4271023713.py:16: SyntaxWarning: invalid escape sequence '\\S'\n",
      "  engine = create_engine('mssql+pyodbc://BIANCA\\SQLEXPRESS/PremiumDrinks?trusted_connection=yes&driver=ODBC+Driver+18+for+SQL+Server&TrustServerCertificate=yes')\n"
     ]
    },
    {
     "name": "stdout",
     "output_type": "stream",
     "text": [
      "Datos exportados exitosamente a la tabla Compras2016 en la base de datos PremiumDrinks\n"
     ]
    }
   ],
   "source": [
    "import pyodbc\n",
    "import pandas as pd\n",
    "from sqlalchemy import create_engine, types\n",
    "\n",
    "comprasfinales_df = pd.read_csv(r'C:\\Users\\bianc\\OneDrive\\Escritorio\\proyectofinal\\LimpiezaPurchasesFINAL12312016')\n",
    "# Asegurar que las columnas tengan los tipos de datos correctos\n",
    "comprasfinales_df['InventarioID'] = comprasfinales_df['InventarioID'].astype(str)  # Convertir a string para usar VARCHAR en SQL\n",
    "comprasfinales_df['FechaCompra'] = pd.to_datetime(comprasfinales_df['FechaCompra']) \n",
    "comprasfinales_df['FechaCompra'] = pd.to_datetime(comprasfinales_df['FechaCompra'])\n",
    "comprasfinales_df['FechaRecepción'] = pd.to_datetime(comprasfinales_df['FechaRecepción'])\n",
    "comprasfinales_df['FechaFactura'] = pd.to_datetime(comprasfinales_df['FechaFactura'])\n",
    "comprasfinales_df['FechaPago'] = pd.to_datetime(comprasfinales_df['FechaPago'])\n",
    "\n",
    "# Crear la conexión con SQL Server usando autenticación de Windows\n",
    "# Usando el nombre del servidor SQLEXPRESS y Trusted Connection\n",
    "engine = create_engine('mssql+pyodbc://BIANCA\\SQLEXPRESS/PremiumDrinks?trusted_connection=yes&driver=ODBC+Driver+18+for+SQL+Server&TrustServerCertificate=yes')\n",
    "\n",
    "# Especificar los tipos de datos para cada columna en SQL Server\n",
    "dtype_sql = {\n",
    "   'InventarioID': types.VARCHAR(length=50),  # VARCHAR en SQL Server para InventarioID\n",
    "    'Tienda': types.INTEGER,  # INTEGER para la columna Tienda\n",
    "    'Marca': types.INTEGER,  # INTEGER para la columna Marca\n",
    "    'Descripción': types.VARCHAR(length=255),  # VARCHAR para la columna Descripción\n",
    "    'NúmeroProveedor': types.INTEGER,  # INTEGER para la columna NúmeroProveedor\n",
    "    'NumerodeOrdendeCompra': types.INTEGER,  # INTEGER para la columna Número de Orden de Compra\n",
    "    'FechaCompra': types.DATE,  # DATE para la columna FechaCompra\n",
    "    'FechaRecepción': types.DATE,  # DATE para la columna FechaRecepción\n",
    "    'FechaFactura': types.DATE,  # DATE para la columna FechaFactura\n",
    "    'FechaPago': types.DATE,  # DATE para la columna FechaPago\n",
    "    'DíasEntreCompraYPago': types.INTEGER  # INTEGER para la columna DíasEntreCompraYPago\n",
    "}\n",
    "\n",
    "# Exportar el DataFrame a una tabla SQL llamada Ventas2016\n",
    "comprasfinales_df.to_sql('Compras2016', con=engine, if_exists='replace', index=False, dtype=dtype_sql)\n",
    "\n",
    "print(\"Datos exportados exitosamente a la tabla Compras2016 en la base de datos PremiumDrinks\")"
   ]
  }
 ],
 "metadata": {
  "kernelspec": {
   "display_name": "Python 3",
   "language": "python",
   "name": "python3"
  },
  "language_info": {
   "codemirror_mode": {
    "name": "ipython",
    "version": 3
   },
   "file_extension": ".py",
   "mimetype": "text/x-python",
   "name": "python",
   "nbconvert_exporter": "python",
   "pygments_lexer": "ipython3",
   "version": "3.12.2"
  }
 },
 "nbformat": 4,
 "nbformat_minor": 2
}
