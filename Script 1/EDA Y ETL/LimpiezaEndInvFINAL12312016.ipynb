{
 "cells": [
  {
   "cell_type": "code",
   "execution_count": 36,
   "metadata": {},
   "outputs": [
    {
     "name": "stdout",
     "output_type": "stream",
     "text": [
      "Requirement already satisfied: pandas in c:\\users\\bianc\\appdata\\local\\programs\\python\\python312\\lib\\site-packages (2.2.2)\n",
      "Requirement already satisfied: numpy in c:\\users\\bianc\\appdata\\local\\programs\\python\\python312\\lib\\site-packages (2.1.0)\n",
      "Requirement already satisfied: matplotlib in c:\\users\\bianc\\appdata\\local\\programs\\python\\python312\\lib\\site-packages (3.9.2)\n",
      "Requirement already satisfied: seaborn in c:\\users\\bianc\\appdata\\local\\programs\\python\\python312\\lib\\site-packages (0.13.2)\n",
      "Requirement already satisfied: python-dateutil>=2.8.2 in c:\\users\\bianc\\appdata\\roaming\\python\\python312\\site-packages (from pandas) (2.9.0.post0)\n",
      "Requirement already satisfied: pytz>=2020.1 in c:\\users\\bianc\\appdata\\local\\programs\\python\\python312\\lib\\site-packages (from pandas) (2024.1)\n",
      "Requirement already satisfied: tzdata>=2022.7 in c:\\users\\bianc\\appdata\\local\\programs\\python\\python312\\lib\\site-packages (from pandas) (2024.1)\n",
      "Requirement already satisfied: contourpy>=1.0.1 in c:\\users\\bianc\\appdata\\local\\programs\\python\\python312\\lib\\site-packages (from matplotlib) (1.3.0)\n",
      "Requirement already satisfied: cycler>=0.10 in c:\\users\\bianc\\appdata\\local\\programs\\python\\python312\\lib\\site-packages (from matplotlib) (0.12.1)\n",
      "Requirement already satisfied: fonttools>=4.22.0 in c:\\users\\bianc\\appdata\\local\\programs\\python\\python312\\lib\\site-packages (from matplotlib) (4.53.1)\n",
      "Requirement already satisfied: kiwisolver>=1.3.1 in c:\\users\\bianc\\appdata\\local\\programs\\python\\python312\\lib\\site-packages (from matplotlib) (1.4.7)\n",
      "Requirement already satisfied: packaging>=20.0 in c:\\users\\bianc\\appdata\\roaming\\python\\python312\\site-packages (from matplotlib) (24.1)\n",
      "Requirement already satisfied: pillow>=8 in c:\\users\\bianc\\appdata\\local\\programs\\python\\python312\\lib\\site-packages (from matplotlib) (10.4.0)\n",
      "Requirement already satisfied: pyparsing>=2.3.1 in c:\\users\\bianc\\appdata\\local\\programs\\python\\python312\\lib\\site-packages (from matplotlib) (3.1.4)\n",
      "Requirement already satisfied: six>=1.5 in c:\\users\\bianc\\appdata\\roaming\\python\\python312\\site-packages (from python-dateutil>=2.8.2->pandas) (1.16.0)\n"
     ]
    },
    {
     "name": "stderr",
     "output_type": "stream",
     "text": [
      "\n",
      "[notice] A new release of pip is available: 24.0 -> 24.2\n",
      "[notice] To update, run: python.exe -m pip install --upgrade pip\n"
     ]
    }
   ],
   "source": [
    "! pip install pandas numpy matplotlib seaborn"
   ]
  },
  {
   "cell_type": "code",
   "execution_count": 2,
   "metadata": {},
   "outputs": [],
   "source": [
    "! pip freeze > requirements.txt"
   ]
  },
  {
   "cell_type": "code",
   "execution_count": 3,
   "metadata": {},
   "outputs": [],
   "source": [
    "import pandas as pd\n",
    "\n",
    "# Carga del archivo CSV\n",
    "df = pd.read_csv(r'C:\\Users\\bianc\\OneDrive\\Escritorio\\proyectofinal\\EndInvFINAL12312016_Clean.csv')"
   ]
  },
  {
   "cell_type": "code",
   "execution_count": 4,
   "metadata": {},
   "outputs": [
    {
     "name": "stdout",
     "output_type": "stream",
     "text": [
      "         InventoryId  Store          City  Brand                  Description  \\\n",
      "0  1_HARDERSFIELD_58      1  HARDERSFIELD     58  Gekkeikan Black & Gold Sake   \n",
      "1  1_HARDERSFIELD_62      1  HARDERSFIELD     62     Herradura Silver Tequila   \n",
      "2  1_HARDERSFIELD_63      1  HARDERSFIELD     63   Herradura Reposado Tequila   \n",
      "3  1_HARDERSFIELD_72      1  HARDERSFIELD     72         No. 3 London Dry Gin   \n",
      "4  1_HARDERSFIELD_75      1  HARDERSFIELD     75    Three Olives Tomato Vodka   \n",
      "\n",
      "    Size  onHand  Price     endDate  \n",
      "0  750mL      11  12.99  2016-12-31  \n",
      "1  750mL       7  36.99  2016-12-31  \n",
      "2  750mL       7  38.99  2016-12-31  \n",
      "3  750mL       4  34.99  2016-12-31  \n",
      "4  750mL       7  14.99  2016-12-31  \n"
     ]
    }
   ],
   "source": [
    "print(df.head())  # Muestra las primeras filas"
   ]
  },
  {
   "cell_type": "code",
   "execution_count": 5,
   "metadata": {},
   "outputs": [],
   "source": [
    "import warnings\n",
    "warnings.filterwarnings(\"ignore\")"
   ]
  },
  {
   "cell_type": "code",
   "execution_count": 6,
   "metadata": {},
   "outputs": [],
   "source": [
    "df.rename(columns={\n",
    "   \n",
    "    'InventoryID': 'InventarioID',\n",
    "    'Store': 'Tienda',\n",
    "    'Ciudad': 'City',\n",
    "    'Brand': 'Marca',\n",
    "    'Description': 'Descripcion',\n",
    "    'onHand': 'EnLaMano',\n",
    "    'Price': 'Precio',\n",
    "    'endDate': 'FechaDeCierre'\n",
    "}, inplace=True)"
   ]
  },
  {
   "cell_type": "code",
   "execution_count": 7,
   "metadata": {},
   "outputs": [
    {
     "name": "stdout",
     "output_type": "stream",
     "text": [
      "         InventoryId  Tienda          City  Marca  \\\n",
      "0  1_HARDERSFIELD_58       1  HARDERSFIELD     58   \n",
      "1  1_HARDERSFIELD_62       1  HARDERSFIELD     62   \n",
      "2  1_HARDERSFIELD_63       1  HARDERSFIELD     63   \n",
      "3  1_HARDERSFIELD_72       1  HARDERSFIELD     72   \n",
      "4  1_HARDERSFIELD_75       1  HARDERSFIELD     75   \n",
      "\n",
      "                   Descripcion   Size  EnLaMano  Precio FechaDeCierre  \n",
      "0  Gekkeikan Black & Gold Sake  750mL        11   12.99    2016-12-31  \n",
      "1     Herradura Silver Tequila  750mL         7   36.99    2016-12-31  \n",
      "2   Herradura Reposado Tequila  750mL         7   38.99    2016-12-31  \n",
      "3         No. 3 London Dry Gin  750mL         4   34.99    2016-12-31  \n",
      "4    Three Olives Tomato Vodka  750mL         7   14.99    2016-12-31  \n"
     ]
    }
   ],
   "source": [
    "print(df.head())  # Muestra las primeras filas"
   ]
  },
  {
   "cell_type": "markdown",
   "metadata": {},
   "source": [
    "Elimino las columnas que no voy a utilizar:"
   ]
  },
  {
   "cell_type": "code",
   "execution_count": 12,
   "metadata": {},
   "outputs": [],
   "source": [
    "df.drop(columns=['Size'], inplace=True)"
   ]
  },
  {
   "cell_type": "code",
   "execution_count": 14,
   "metadata": {},
   "outputs": [],
   "source": [
    "df.rename(columns={\n",
    "    'InventoryId': 'InventarioID',\n",
    "    'City': 'Ciudad'\n",
    "    \n",
    "}, inplace=True)"
   ]
  },
  {
   "cell_type": "code",
   "execution_count": 15,
   "metadata": {},
   "outputs": [
    {
     "name": "stdout",
     "output_type": "stream",
     "text": [
      "        InventarioID  Tienda        Ciudad  Marca  \\\n",
      "0  1_HARDERSFIELD_58       1  HARDERSFIELD     58   \n",
      "1  1_HARDERSFIELD_62       1  HARDERSFIELD     62   \n",
      "2  1_HARDERSFIELD_63       1  HARDERSFIELD     63   \n",
      "3  1_HARDERSFIELD_72       1  HARDERSFIELD     72   \n",
      "4  1_HARDERSFIELD_75       1  HARDERSFIELD     75   \n",
      "\n",
      "                   Descripcion  EnLaMano  Precio FechaDeCierre  \n",
      "0  Gekkeikan Black & Gold Sake        11   12.99    2016-12-31  \n",
      "1     Herradura Silver Tequila         7   36.99    2016-12-31  \n",
      "2   Herradura Reposado Tequila         7   38.99    2016-12-31  \n",
      "3         No. 3 London Dry Gin         4   34.99    2016-12-31  \n",
      "4    Three Olives Tomato Vodka         7   14.99    2016-12-31  \n"
     ]
    }
   ],
   "source": [
    "print(df.head())  # Muestra las primeras filas"
   ]
  },
  {
   "cell_type": "code",
   "execution_count": 16,
   "metadata": {},
   "outputs": [],
   "source": [
    "! pip freeze > requirements.txt"
   ]
  },
  {
   "cell_type": "code",
   "execution_count": 17,
   "metadata": {},
   "outputs": [
    {
     "name": "stdout",
     "output_type": "stream",
     "text": [
      "<class 'pandas.core.frame.DataFrame'>\n",
      "RangeIndex: 224489 entries, 0 to 224488\n",
      "Data columns (total 8 columns):\n",
      " #   Column         Non-Null Count   Dtype  \n",
      "---  ------         --------------   -----  \n",
      " 0   InventarioID   224489 non-null  object \n",
      " 1   Tienda         224489 non-null  int64  \n",
      " 2   Ciudad         224489 non-null  object \n",
      " 3   Marca          224489 non-null  int64  \n",
      " 4   Descripcion    224489 non-null  object \n",
      " 5   EnLaMano       224489 non-null  int64  \n",
      " 6   Precio         224489 non-null  float64\n",
      " 7   FechaDeCierre  224489 non-null  object \n",
      "dtypes: float64(1), int64(3), object(4)\n",
      "memory usage: 13.7+ MB\n",
      "None\n"
     ]
    }
   ],
   "source": [
    "print(df.info())  # Información de columnas y tipos de datos"
   ]
  },
  {
   "cell_type": "code",
   "execution_count": 18,
   "metadata": {},
   "outputs": [],
   "source": [
    "import numpy as np"
   ]
  },
  {
   "cell_type": "code",
   "execution_count": 19,
   "metadata": {},
   "outputs": [
    {
     "data": {
      "text/plain": [
       "(224489, 8)"
      ]
     },
     "execution_count": 19,
     "metadata": {},
     "output_type": "execute_result"
    }
   ],
   "source": [
    "np.shape(df)"
   ]
  },
  {
   "cell_type": "markdown",
   "metadata": {},
   "source": [
    "Conversión del tipo de datos:"
   ]
  },
  {
   "cell_type": "code",
   "execution_count": 22,
   "metadata": {},
   "outputs": [],
   "source": [
    "df['FechaDeCierre'] = pd.to_datetime(df['FechaDeCierre'], format='%Y-%m-%d')\n",
    "df['Tienda'] = pd.to_numeric(df['Tienda'], errors='coerce')\n",
    "df['Marca'] = pd.to_numeric(df['Marca'], errors='coerce')\n",
    "df['Precio'] = pd.to_numeric(df['Precio'], errors='coerce')\n",
    "df['EnLaMano'] = pd.to_numeric(df['EnLaMano'], errors='coerce')\n"
   ]
  },
  {
   "cell_type": "code",
   "execution_count": 23,
   "metadata": {},
   "outputs": [
    {
     "name": "stdout",
     "output_type": "stream",
     "text": [
      "Index(['InventarioID', 'Tienda', 'Ciudad', 'Marca', 'Descripcion', 'EnLaMano',\n",
      "       'Precio', 'FechaDeCierre'],\n",
      "      dtype='object')\n"
     ]
    }
   ],
   "source": [
    "\n",
    "print(df.columns)"
   ]
  },
  {
   "cell_type": "code",
   "execution_count": 24,
   "metadata": {},
   "outputs": [
    {
     "data": {
      "text/plain": [
       "InventarioID     0\n",
       "Tienda           0\n",
       "Ciudad           0\n",
       "Marca            0\n",
       "Descripcion      0\n",
       "EnLaMano         0\n",
       "Precio           0\n",
       "FechaDeCierre    0\n",
       "dtype: int64"
      ]
     },
     "execution_count": 24,
     "metadata": {},
     "output_type": "execute_result"
    }
   ],
   "source": [
    "df.isnull().sum() #busco nulos"
   ]
  },
  {
   "cell_type": "code",
   "execution_count": 25,
   "metadata": {},
   "outputs": [
    {
     "name": "stdout",
     "output_type": "stream",
     "text": [
      "Empty DataFrame\n",
      "Columns: [InventarioID, Tienda, Ciudad, Marca, Descripcion, EnLaMano, Precio, FechaDeCierre]\n",
      "Index: []\n"
     ]
    }
   ],
   "source": [
    "duplicados = df[df.duplicated()]\n",
    "\n",
    "print(duplicados)"
   ]
  },
  {
   "cell_type": "markdown",
   "metadata": {},
   "source": [
    "No se encontraron duplicados"
   ]
  },
  {
   "cell_type": "code",
   "execution_count": 26,
   "metadata": {},
   "outputs": [
    {
     "name": "stdout",
     "output_type": "stream",
     "text": [
      "<class 'pandas.core.frame.DataFrame'>\n",
      "RangeIndex: 224489 entries, 0 to 224488\n",
      "Data columns (total 8 columns):\n",
      " #   Column         Non-Null Count   Dtype         \n",
      "---  ------         --------------   -----         \n",
      " 0   InventarioID   224489 non-null  object        \n",
      " 1   Tienda         224489 non-null  int64         \n",
      " 2   Ciudad         224489 non-null  object        \n",
      " 3   Marca          224489 non-null  int64         \n",
      " 4   Descripcion    224489 non-null  object        \n",
      " 5   EnLaMano       224489 non-null  int64         \n",
      " 6   Precio         224489 non-null  float64       \n",
      " 7   FechaDeCierre  224489 non-null  datetime64[ns]\n",
      "dtypes: datetime64[ns](1), float64(1), int64(3), object(3)\n",
      "memory usage: 13.7+ MB\n",
      "None\n"
     ]
    }
   ],
   "source": [
    "print(df.info())  # Información de columnas y tipos de datos"
   ]
  },
  {
   "cell_type": "code",
   "execution_count": 29,
   "metadata": {},
   "outputs": [
    {
     "name": "stdout",
     "output_type": "stream",
     "text": [
      "Requirement already satisfied: sqlalchemy in c:\\users\\bianc\\appdata\\local\\programs\\python\\python312\\lib\\site-packages (2.0.35)\n",
      "Requirement already satisfied: pyodbc in c:\\users\\bianc\\appdata\\local\\programs\\python\\python312\\lib\\site-packages (5.1.0)\n",
      "Requirement already satisfied: typing-extensions>=4.6.0 in c:\\users\\bianc\\appdata\\local\\programs\\python\\python312\\lib\\site-packages (from sqlalchemy) (4.12.2)\n",
      "Requirement already satisfied: greenlet!=0.4.17 in c:\\users\\bianc\\appdata\\local\\programs\\python\\python312\\lib\\site-packages (from sqlalchemy) (3.1.1)\n",
      "Note: you may need to restart the kernel to use updated packages.\n"
     ]
    },
    {
     "name": "stderr",
     "output_type": "stream",
     "text": [
      "\n",
      "[notice] A new release of pip is available: 24.0 -> 24.2\n",
      "[notice] To update, run: python.exe -m pip install --upgrade pip\n"
     ]
    }
   ],
   "source": [
    "pip install sqlalchemy pyodbc"
   ]
  },
  {
   "cell_type": "code",
   "execution_count": 30,
   "metadata": {},
   "outputs": [
    {
     "name": "stdout",
     "output_type": "stream",
     "text": [
      "Tienda\n",
      "Mediana: 44.0\n",
      "Varianza:  544.12\n",
      "Rango: 80\n",
      "Moda: 50\n",
      "--------------------------------\n",
      "Marca\n",
      "Mediana: 8259.0\n",
      "Varianza:  172094198.77\n",
      "Rango: 90573\n",
      "Moda: 77\n",
      "--------------------------------\n",
      "EnLaMano\n",
      "Mediana: 12.0\n",
      "Varianza:  1386.34\n",
      "Rango: 3676\n",
      "Moda: 12\n",
      "--------------------------------\n",
      "Precio\n",
      "Mediana: 14.99\n",
      "Varianza:  6273.08\n",
      "Rango: 13999.41\n",
      "Moda: 9.99\n",
      "--------------------------------\n"
     ]
    }
   ],
   "source": [
    "def calcular_estadisticas(data): \n",
    "    for columna in data.columns:\n",
    "        if data[columna].dtype == 'float64' or data[columna].dtype == 'int64':\n",
    "            print(columna)\n",
    "            print('Mediana:', data[columna].median())\n",
    "            print('Varianza: ', np.around((data[columna].var()),decimals=2)) # Casteo (redondeo) a 2 decimales\n",
    "            print('Rango:', data[columna].max() - data[columna].min())\n",
    "            print('Moda:', data[columna].mode()[0])\n",
    "            print('--------------------------------')\n",
    "\n",
    "calcular_estadisticas(df)"
   ]
  },
  {
   "cell_type": "code",
   "execution_count": 31,
   "metadata": {},
   "outputs": [],
   "source": [
    "# Guardar el DataFrame transformado\n",
    "df.to_csv(r'C:\\Users\\bianc\\OneDrive\\Escritorio\\proyectofinal\\LimpiezaEndInvFINAL12312016', index=False)   "
   ]
  },
  {
   "cell_type": "code",
   "execution_count": 32,
   "metadata": {},
   "outputs": [],
   "source": [
    "#carga archivo csv\n",
    "df2 = pd.read_csv(r'C:\\Users\\bianc\\OneDrive\\Escritorio\\proyectofinal\\LimpiezaEndInvFINAL12312016')"
   ]
  },
  {
   "cell_type": "code",
   "execution_count": 33,
   "metadata": {},
   "outputs": [
    {
     "name": "stdout",
     "output_type": "stream",
     "text": [
      "<class 'pandas.core.frame.DataFrame'>\n",
      "RangeIndex: 224489 entries, 0 to 224488\n",
      "Data columns (total 8 columns):\n",
      " #   Column         Non-Null Count   Dtype  \n",
      "---  ------         --------------   -----  \n",
      " 0   InventarioID   224489 non-null  object \n",
      " 1   Tienda         224489 non-null  int64  \n",
      " 2   Ciudad         224489 non-null  object \n",
      " 3   Marca          224489 non-null  int64  \n",
      " 4   Descripcion    224489 non-null  object \n",
      " 5   EnLaMano       224489 non-null  int64  \n",
      " 6   Precio         224489 non-null  float64\n",
      " 7   FechaDeCierre  224489 non-null  object \n",
      "dtypes: float64(1), int64(3), object(4)\n",
      "memory usage: 13.7+ MB\n",
      "None\n"
     ]
    }
   ],
   "source": [
    "print(df2.info()) "
   ]
  },
  {
   "cell_type": "code",
   "execution_count": 35,
   "metadata": {},
   "outputs": [
    {
     "name": "stdout",
     "output_type": "stream",
     "text": [
      "Datos exportados exitosamente a la tabla InventarioFinal en la base de datos PremiumDrinks\n"
     ]
    }
   ],
   "source": [
    "import pyodbc\n",
    "import pandas as pd\n",
    "from sqlalchemy import create_engine, types\n",
    "\n",
    "InventarioFinal_df = pd.read_csv(r'C:\\Users\\bianc\\OneDrive\\Escritorio\\proyectofinal\\LimpiezaEndInvFINAL12312016')\n",
    "# Asegurar que las columnas tengan los tipos de datos correctos\n",
    "InventarioFinal_df['InventarioID'] = InventarioFinal_df['InventarioID'].astype(str)  # Convertir a string para usar VARCHAR en SQL\n",
    "InventarioFinal_df['FechaDeCierre'] = pd.to_datetime(InventarioFinal_df['FechaDeCierre']) \n",
    "\n",
    "\n",
    "# Crear la conexión con SQL Server usando autenticación de Windows\n",
    "# Usando el nombre del servidor SQLEXPRESS y Trusted Connection\n",
    "engine = create_engine('mssql+pyodbc://BIANCA\\SQLEXPRESS/PremiumDrinks?trusted_connection=yes&driver=ODBC+Driver+18+for+SQL+Server&TrustServerCertificate=yes')\n",
    "\n",
    "# Especificar los tipos de datos para cada columna en SQL Server\n",
    "dtype_sql = {\n",
    "    'InventarioID': types.VARCHAR(length=255),  # VARCHAR en SQL Server para InventarioID\n",
    "    'Tienda': types.INTEGER,  # INTEGER para la columna Tienda\n",
    "    'Ciudad': types.VARCHAR(length=255),  # VARCHAR para la columna Ciudad\n",
    "    'Marca': types.INTEGER,  # INTEGER para la columna Marca\n",
    "    'Descripcion': types.VARCHAR(length=255),  # VARCHAR para la columna Descripcion\n",
    "    'EnLaMano': types.INTEGER,  # INTEGER para la columna EnLaMano\n",
    "    'Precio': types.FLOAT,  # FLOAT para la columna Precio\n",
    "    'FechaDeCierre': types.DATETIME  # DATETIME para la columna FechaDeCierre\n",
    "}\n",
    "\n",
    "# Exportar el DataFrame a una tabla SQL llamada Ventas2016\n",
    "InventarioFinal_df.to_sql('InventarioFinal', con=engine, if_exists='replace', index=False, dtype=dtype_sql)\n",
    "\n",
    "print(\"Datos exportados exitosamente a la tabla InventarioFinal en la base de datos PremiumDrinks\")"
   ]
  }
 ],
 "metadata": {
  "kernelspec": {
   "display_name": "Python 3",
   "language": "python",
   "name": "python3"
  },
  "language_info": {
   "codemirror_mode": {
    "name": "ipython",
    "version": 3
   },
   "file_extension": ".py",
   "mimetype": "text/x-python",
   "name": "python",
   "nbconvert_exporter": "python",
   "pygments_lexer": "ipython3",
   "version": "3.12.2"
  }
 },
 "nbformat": 4,
 "nbformat_minor": 2
}
