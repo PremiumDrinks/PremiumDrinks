{
 "cells": [
  {
   "cell_type": "code",
   "execution_count": 1,
   "metadata": {},
   "outputs": [
    {
     "name": "stdout",
     "output_type": "stream",
     "text": [
      "Requirement already satisfied: pandas in c:\\users\\mati puto\\appdata\\local\\programs\\python\\python312\\lib\\site-packages (2.2.2)\n",
      "Collecting pyarrow\n",
      "  Downloading pyarrow-17.0.0-cp312-cp312-win_amd64.whl.metadata (3.4 kB)\n",
      "Requirement already satisfied: numpy>=1.26.0 in c:\\users\\mati puto\\appdata\\local\\programs\\python\\python312\\lib\\site-packages (from pandas) (2.0.0)\n",
      "Requirement already satisfied: python-dateutil>=2.8.2 in c:\\users\\mati puto\\appdata\\roaming\\python\\python312\\site-packages (from pandas) (2.9.0.post0)\n",
      "Requirement already satisfied: pytz>=2020.1 in c:\\users\\mati puto\\appdata\\local\\programs\\python\\python312\\lib\\site-packages (from pandas) (2024.1)\n",
      "Requirement already satisfied: tzdata>=2022.7 in c:\\users\\mati puto\\appdata\\local\\programs\\python\\python312\\lib\\site-packages (from pandas) (2024.1)\n",
      "Requirement already satisfied: six>=1.5 in c:\\users\\mati puto\\appdata\\roaming\\python\\python312\\site-packages (from python-dateutil>=2.8.2->pandas) (1.16.0)\n",
      "Downloading pyarrow-17.0.0-cp312-cp312-win_amd64.whl (25.1 MB)\n",
      "   ---------------------------------------- 0.0/25.1 MB ? eta -:--:--\n",
      "   - -------------------------------------- 0.8/25.1 MB 6.7 MB/s eta 0:00:04\n",
      "   --- ------------------------------------ 2.1/25.1 MB 6.2 MB/s eta 0:00:04\n",
      "   ----- ---------------------------------- 3.4/25.1 MB 6.1 MB/s eta 0:00:04\n",
      "   ------- -------------------------------- 4.7/25.1 MB 6.2 MB/s eta 0:00:04\n",
      "   --------- ------------------------------ 5.8/25.1 MB 6.1 MB/s eta 0:00:04\n",
      "   ----------- ---------------------------- 7.1/25.1 MB 6.1 MB/s eta 0:00:03\n",
      "   ------------- -------------------------- 8.4/25.1 MB 6.1 MB/s eta 0:00:03\n",
      "   --------------- ------------------------ 9.4/25.1 MB 6.0 MB/s eta 0:00:03\n",
      "   ----------------- ---------------------- 10.7/25.1 MB 6.0 MB/s eta 0:00:03\n",
      "   ------------------ --------------------- 11.8/25.1 MB 6.0 MB/s eta 0:00:03\n",
      "   -------------------- ------------------- 13.1/25.1 MB 5.9 MB/s eta 0:00:03\n",
      "   ---------------------- ----------------- 14.2/25.1 MB 5.9 MB/s eta 0:00:02\n",
      "   ------------------------ --------------- 15.5/25.1 MB 5.9 MB/s eta 0:00:02\n",
      "   -------------------------- ------------- 16.5/25.1 MB 5.9 MB/s eta 0:00:02\n",
      "   --------------------------- ------------ 17.6/25.1 MB 5.9 MB/s eta 0:00:02\n",
      "   ------------------------------ --------- 18.9/25.1 MB 5.8 MB/s eta 0:00:02\n",
      "   ------------------------------- -------- 19.9/25.1 MB 5.8 MB/s eta 0:00:01\n",
      "   --------------------------------- ------ 21.2/25.1 MB 5.8 MB/s eta 0:00:01\n",
      "   ----------------------------------- ---- 22.5/25.1 MB 5.8 MB/s eta 0:00:01\n",
      "   -------------------------------------- - 23.9/25.1 MB 5.9 MB/s eta 0:00:01\n",
      "   ---------------------------------------  24.9/25.1 MB 5.9 MB/s eta 0:00:01\n",
      "   ---------------------------------------  24.9/25.1 MB 5.9 MB/s eta 0:00:01\n",
      "   ---------------------------------------  24.9/25.1 MB 5.9 MB/s eta 0:00:01\n",
      "   ---------------------------------------- 25.1/25.1 MB 5.1 MB/s eta 0:00:00\n",
      "Installing collected packages: pyarrow\n",
      "Successfully installed pyarrow-17.0.0\n",
      "Note: you may need to restart the kernel to use updated packages.\n"
     ]
    }
   ],
   "source": [
    "pip install pandas pyarrow\n"
   ]
  },
  {
   "cell_type": "code",
   "execution_count": 1,
   "metadata": {},
   "outputs": [],
   "source": [
    "import pandas as pd\n",
    "\n",
    "# Leer el archivo CSV\n",
    "df = pd.read_csv(r'Limpieza2017PurchasePricesDec')\n",
    "df1 = pd.read_csv(r'LimpiezaBegInvFINAL12312016')\n",
    "df2 = pd.read_csv(r'LimpiezaEndInvFINAL12312016')\n",
    "df3= pd.read_csv(r'LimpiezaInvoicePurchasesFINAL12312016')\n",
    "df4 = pd.read_csv(r'LimpiezaPurchasesFINAL12312016')\n",
    "df5 = pd.read_csv(r'LimpiezaSalesFinal31122016')\n",
    "# Convertir y guardar el archivo en formato Parquet\n",
    "df.to_parquet('2017PurchasePricesDec.parquet', engine='pyarrow')\n",
    "df1.to_parquet('BegInvFINAL12312016.parquet', engine='pyarrow')\n",
    "df2.to_parquet('EndInvFINAL12312016.parquet', engine='pyarrow')\n",
    "df3.to_parquet('InvoicePurchasesFINAL12312016.parquet', engine='pyarrow')\n",
    "df4.to_parquet('PurchasesFINAL12312016.parquet', engine='pyarrow')\n",
    "df5.to_parquet('SalesFinal31122016.parquet', engine='pyarrow')\n"
   ]
  }
 ],
 "metadata": {
  "kernelspec": {
   "display_name": "Python 3",
   "language": "python",
   "name": "python3"
  },
  "language_info": {
   "codemirror_mode": {
    "name": "ipython",
    "version": 3
   },
   "file_extension": ".py",
   "mimetype": "text/x-python",
   "name": "python",
   "nbconvert_exporter": "python",
   "pygments_lexer": "ipython3",
   "version": "3.12.6"
  }
 },
 "nbformat": 4,
 "nbformat_minor": 2
}
