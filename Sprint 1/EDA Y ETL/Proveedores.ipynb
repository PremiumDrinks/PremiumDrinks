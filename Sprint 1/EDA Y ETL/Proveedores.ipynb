{
 "cells": [
  {
   "cell_type": "code",
   "execution_count": 2,
   "metadata": {},
   "outputs": [
    {
     "name": "stdout",
     "output_type": "stream",
     "text": [
      "Tabla PROVEEDOR creada exitosamente con los datos únicos de NúmeroProveedor.\n",
      "Clave primaria agregada exitosamente a la tabla PROVEEDOR.\n"
     ]
    }
   ],
   "source": [
    "import pyodbc\n",
    "import pandas as pd\n",
    "from sqlalchemy import create_engine, types, text\n",
    "\n",
    "# Crear conexión con SQL Server usando autenticación de Windows\n",
    "engine = create_engine('mssql+pyodbc://BIANCA\\\\SQLEXPRESS/PremiumDrinks?trusted_connection=yes&driver=ODBC+Driver+18+for+SQL+Server&TrustServerCertificate=yes')\n",
    "\n",
    "# Leer los archivos CSV correspondientes a cada tabla\n",
    "VentasFinal2016_df = pd.read_csv(r'C:\\Users\\bianc\\OneDrive\\Escritorio\\proyectofinal\\LimpiezaSalesFinal31122016')\n",
    "PrecioCompra_df = pd.read_csv(r'C:\\Users\\bianc\\OneDrive\\Escritorio\\proyectofinal\\Limpieza2017PurchasePricesDec')\n",
    "ComprasFinal2016_df = pd.read_csv(r'C:\\Users\\bianc\\OneDrive\\Escritorio\\proyectofinal\\LimpiezaPurchasesFINAL12312016')\n",
    "\n",
    "# Obtener los valores únicos de la columna NúmeroProveedor en todas las tablas\n",
    "proveedores_unicos = pd.concat([\n",
    "    ComprasFinal2016_df[['NúmeroProveedor']].drop_duplicates(),\n",
    "    VentasFinal2016_df[['NúmeroProveedor']].drop_duplicates(),\n",
    "    PrecioCompra_df[['NúmeroProveedor']].drop_duplicates()\n",
    "])\n",
    "\n",
    "# Eliminar duplicados de la columna 'NúmeroProveedor' y remover valores nulos\n",
    "proveedores_unicos = proveedores_unicos.drop_duplicates().dropna(subset=['NúmeroProveedor'])\n",
    "\n",
    "# Crear la tabla PROVEEDOR en SQL Server\n",
    "dtype_sql_proveedor = {\n",
    "    'NúmeroProveedor': types.INTEGER  # Asumimos que NúmeroProveedor es un entero en todas las tablas\n",
    "}\n",
    "\n",
    "# Exportar los datos únicos a la tabla PROVEEDOR\n",
    "proveedores_unicos.to_sql('PROVEEDOR', con=engine, if_exists='replace', index=False, dtype=dtype_sql_proveedor)\n",
    "\n",
    "print(\"Tabla PROVEEDOR creada exitosamente con los datos únicos de NúmeroProveedor.\")\n",
    "\n",
    "with engine.connect() as connection:\n",
    "    # Verificar si aún hay valores nulos\n",
    "    null_count = connection.execute(text(\"SELECT COUNT(*) FROM PROVEEDOR WHERE NúmeroProveedor IS NULL\")).scalar()\n",
    "    \n",
    "    if null_count > 0:\n",
    "        print(f\"Se encontraron {null_count} valores nulos en la tabla PROVEEDOR. Asignando valores por defecto.\")\n",
    "        # Actualizar los valores nulos en la columna NúmeroProveedor\n",
    "        connection.execute(text(\"\"\"\n",
    "            UPDATE PROVEEDOR\n",
    "            SET NúmeroProveedor = -1  -- Se puede usar un valor por defecto o ajustarlo según lo que tenga sentido en tu contexto\n",
    "            WHERE NúmeroProveedor IS NULL;\n",
    "        \"\"\"))\n",
    "\n",
    "    # Asegurarse de que la columna NúmeroProveedor no tenga valores nulos y sea NOT NULL\n",
    "    connection.execute(text(\"\"\"\n",
    "        ALTER TABLE PROVEEDOR\n",
    "        ALTER COLUMN NúmeroProveedor INT NOT NULL;\n",
    "    \"\"\"))\n",
    "\n",
    "    # Agregar clave primaria a la tabla PROVEEDOR\n",
    "    connection.execute(text(\"\"\"\n",
    "        ALTER TABLE PROVEEDOR\n",
    "        ADD CONSTRAINT PK_PROVEEDOR PRIMARY KEY (NúmeroProveedor);\n",
    "    \"\"\"))\n",
    "\n",
    "print(\"Clave primaria agregada exitosamente a la tabla PROVEEDOR.\")"
   ]
  }
 ],
 "metadata": {
  "kernelspec": {
   "display_name": "Python 3",
   "language": "python",
   "name": "python3"
  },
  "language_info": {
   "codemirror_mode": {
    "name": "ipython",
    "version": 3
   },
   "file_extension": ".py",
   "mimetype": "text/x-python",
   "name": "python",
   "nbconvert_exporter": "python",
   "pygments_lexer": "ipython3",
   "version": "3.12.2"
  }
 },
 "nbformat": 4,
 "nbformat_minor": 2
}
