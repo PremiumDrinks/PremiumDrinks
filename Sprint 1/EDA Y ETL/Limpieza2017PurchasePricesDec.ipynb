{
 "cells": [
  {
   "cell_type": "code",
   "execution_count": 1,
   "metadata": {},
   "outputs": [
    {
     "name": "stdout",
     "output_type": "stream",
     "text": [
      "Requirement already satisfied: pandas in c:\\users\\bianc\\appdata\\local\\programs\\python\\python312\\lib\\site-packages (2.2.2)"
     ]
    },
    {
     "name": "stderr",
     "output_type": "stream",
     "text": [
      "\n",
      "[notice] A new release of pip is available: 24.0 -> 24.2\n",
      "[notice] To update, run: python.exe -m pip install --upgrade pip\n"
     ]
    },
    {
     "name": "stdout",
     "output_type": "stream",
     "text": [
      "\n",
      "Requirement already satisfied: numpy in c:\\users\\bianc\\appdata\\local\\programs\\python\\python312\\lib\\site-packages (2.1.0)\n",
      "Requirement already satisfied: matplotlib in c:\\users\\bianc\\appdata\\local\\programs\\python\\python312\\lib\\site-packages (3.9.2)\n",
      "Requirement already satisfied: seaborn in c:\\users\\bianc\\appdata\\local\\programs\\python\\python312\\lib\\site-packages (0.13.2)\n",
      "Requirement already satisfied: python-dateutil>=2.8.2 in c:\\users\\bianc\\appdata\\roaming\\python\\python312\\site-packages (from pandas) (2.9.0.post0)\n",
      "Requirement already satisfied: pytz>=2020.1 in c:\\users\\bianc\\appdata\\local\\programs\\python\\python312\\lib\\site-packages (from pandas) (2024.1)\n",
      "Requirement already satisfied: tzdata>=2022.7 in c:\\users\\bianc\\appdata\\local\\programs\\python\\python312\\lib\\site-packages (from pandas) (2024.1)\n",
      "Requirement already satisfied: contourpy>=1.0.1 in c:\\users\\bianc\\appdata\\local\\programs\\python\\python312\\lib\\site-packages (from matplotlib) (1.3.0)\n",
      "Requirement already satisfied: cycler>=0.10 in c:\\users\\bianc\\appdata\\local\\programs\\python\\python312\\lib\\site-packages (from matplotlib) (0.12.1)\n",
      "Requirement already satisfied: fonttools>=4.22.0 in c:\\users\\bianc\\appdata\\local\\programs\\python\\python312\\lib\\site-packages (from matplotlib) (4.53.1)\n",
      "Requirement already satisfied: kiwisolver>=1.3.1 in c:\\users\\bianc\\appdata\\local\\programs\\python\\python312\\lib\\site-packages (from matplotlib) (1.4.7)\n",
      "Requirement already satisfied: packaging>=20.0 in c:\\users\\bianc\\appdata\\roaming\\python\\python312\\site-packages (from matplotlib) (24.1)\n",
      "Requirement already satisfied: pillow>=8 in c:\\users\\bianc\\appdata\\local\\programs\\python\\python312\\lib\\site-packages (from matplotlib) (10.4.0)\n",
      "Requirement already satisfied: pyparsing>=2.3.1 in c:\\users\\bianc\\appdata\\local\\programs\\python\\python312\\lib\\site-packages (from matplotlib) (3.1.4)\n",
      "Requirement already satisfied: six>=1.5 in c:\\users\\bianc\\appdata\\roaming\\python\\python312\\site-packages (from python-dateutil>=2.8.2->pandas) (1.16.0)\n"
     ]
    }
   ],
   "source": [
    "! pip install pandas numpy matplotlib seaborn"
   ]
  },
  {
   "cell_type": "code",
   "execution_count": 2,
   "metadata": {},
   "outputs": [],
   "source": [
    "! pip freeze > requirements.txt"
   ]
  },
  {
   "cell_type": "code",
   "execution_count": 3,
   "metadata": {},
   "outputs": [],
   "source": [
    "import pandas as pd\n",
    "\n",
    "# Carga del archivo CSV\n",
    "df = pd.read_csv(r'C:\\Users\\bianc\\OneDrive\\Escritorio\\proyectofinal\\2017PurchasePricesDec_clean.csv')"
   ]
  },
  {
   "cell_type": "code",
   "execution_count": 4,
   "metadata": {},
   "outputs": [
    {
     "name": "stdout",
     "output_type": "stream",
     "text": [
      "   Brand                  Description  Price   Size Volume  Classification  \\\n",
      "0     58  Gekkeikan Black & Gold Sake  12.99  750mL    750               1   \n",
      "1     62     Herradura Silver Tequila  36.99  750mL    750               1   \n",
      "2     63   Herradura Reposado Tequila  38.99  750mL    750               1   \n",
      "3     72         No. 3 London Dry Gin  34.99  750mL    750               1   \n",
      "4     75    Three Olives Tomato Vodka  14.99  750mL    750               1   \n",
      "\n",
      "   PurchasePrice  VendorNumber                   VendorName  \n",
      "0           9.28          8320  SHAW ROSS INT L IMP LTD      \n",
      "1          28.67          1128  BROWN-FORMAN CORP            \n",
      "2          30.46          1128  BROWN-FORMAN CORP            \n",
      "3          26.11          9165  ULTRA BEVERAGE COMPANY LLP   \n",
      "4          10.94          7245  PROXIMO SPIRITS INC.         \n"
     ]
    }
   ],
   "source": [
    "print(df.head())  # Muestra las primeras filas"
   ]
  },
  {
   "cell_type": "code",
   "execution_count": 5,
   "metadata": {},
   "outputs": [],
   "source": [
    "import warnings\n",
    "warnings.filterwarnings(\"ignore\")"
   ]
  },
  {
   "cell_type": "code",
   "execution_count": 6,
   "metadata": {},
   "outputs": [],
   "source": [
    "df.rename(columns={\n",
    "   \n",
    "    'Brand': 'Marca',\n",
    "    'Description': 'Descripción',\n",
    "    'Price': 'Precio',\n",
    "    'Size': 'Tamaño',\n",
    "    'Volume': 'Volumen',\n",
    "    'Classification': 'Clasificación',\n",
    "    'PurchasePrice': 'PrecioCompra',\n",
    "    'VendorNumber': 'NúmeroProveedor',\n",
    "    'VendorName': 'NombreProveedor'\n",
    "}, inplace=True)"
   ]
  },
  {
   "cell_type": "code",
   "execution_count": 7,
   "metadata": {},
   "outputs": [
    {
     "name": "stdout",
     "output_type": "stream",
     "text": [
      "   Marca                  Descripción  Precio Tamaño Volumen  Clasificación  \\\n",
      "0     58  Gekkeikan Black & Gold Sake   12.99  750mL     750              1   \n",
      "1     62     Herradura Silver Tequila   36.99  750mL     750              1   \n",
      "2     63   Herradura Reposado Tequila   38.99  750mL     750              1   \n",
      "3     72         No. 3 London Dry Gin   34.99  750mL     750              1   \n",
      "4     75    Three Olives Tomato Vodka   14.99  750mL     750              1   \n",
      "\n",
      "   PrecioCompra  NúmeroProveedor              NombreProveedor  \n",
      "0          9.28             8320  SHAW ROSS INT L IMP LTD      \n",
      "1         28.67             1128  BROWN-FORMAN CORP            \n",
      "2         30.46             1128  BROWN-FORMAN CORP            \n",
      "3         26.11             9165  ULTRA BEVERAGE COMPANY LLP   \n",
      "4         10.94             7245  PROXIMO SPIRITS INC.         \n"
     ]
    }
   ],
   "source": [
    "print(df.head())  # Muestra las primeras filas"
   ]
  },
  {
   "cell_type": "markdown",
   "metadata": {},
   "source": [
    "Elimino las columnas que no voy a utilizar:"
   ]
  },
  {
   "cell_type": "code",
   "execution_count": 8,
   "metadata": {},
   "outputs": [],
   "source": [
    "df.drop(columns=['Tamaño', 'Volumen', 'NombreProveedor'], inplace=True)"
   ]
  },
  {
   "cell_type": "code",
   "execution_count": 10,
   "metadata": {},
   "outputs": [],
   "source": [
    "! pip freeze > requirements.txt"
   ]
  },
  {
   "cell_type": "code",
   "execution_count": 11,
   "metadata": {},
   "outputs": [
    {
     "name": "stdout",
     "output_type": "stream",
     "text": [
      "<class 'pandas.core.frame.DataFrame'>\n",
      "RangeIndex: 12261 entries, 0 to 12260\n",
      "Data columns (total 6 columns):\n",
      " #   Column           Non-Null Count  Dtype  \n",
      "---  ------           --------------  -----  \n",
      " 0   Marca            12261 non-null  int64  \n",
      " 1   Descripción      12261 non-null  object \n",
      " 2   Precio           12261 non-null  float64\n",
      " 3   Clasificación    12261 non-null  int64  \n",
      " 4   PrecioCompra     12261 non-null  float64\n",
      " 5   NúmeroProveedor  12261 non-null  int64  \n",
      "dtypes: float64(2), int64(3), object(1)\n",
      "memory usage: 574.9+ KB\n",
      "None\n"
     ]
    }
   ],
   "source": [
    "print(df.info())  # Información de columnas y tipos de datos"
   ]
  },
  {
   "cell_type": "markdown",
   "metadata": {},
   "source": [
    "Visualización del tamaño del Dataframe (Filas y Columnas):"
   ]
  },
  {
   "cell_type": "code",
   "execution_count": 12,
   "metadata": {},
   "outputs": [],
   "source": [
    "import numpy as np"
   ]
  },
  {
   "cell_type": "code",
   "execution_count": 13,
   "metadata": {},
   "outputs": [
    {
     "data": {
      "text/plain": [
       "(12261, 6)"
      ]
     },
     "execution_count": 13,
     "metadata": {},
     "output_type": "execute_result"
    }
   ],
   "source": [
    "np.shape(df)"
   ]
  },
  {
   "cell_type": "markdown",
   "metadata": {},
   "source": [
    "Conversión del tipo de datos:"
   ]
  },
  {
   "cell_type": "code",
   "execution_count": 15,
   "metadata": {},
   "outputs": [],
   "source": [
    "df['Clasificación'] = pd.to_numeric(df['Clasificación'], errors='coerce')                                    \n",
    "df['Marca'] = pd.to_numeric(df['Marca'], errors='coerce')\n",
    "df['Precio'] = pd.to_numeric(df['Precio'], errors='coerce')\n",
    "df['NúmeroProveedor'] = pd.to_numeric(df['NúmeroProveedor'], errors='coerce')"
   ]
  },
  {
   "cell_type": "code",
   "execution_count": 16,
   "metadata": {},
   "outputs": [
    {
     "name": "stdout",
     "output_type": "stream",
     "text": [
      "Index(['Marca', 'Descripción', 'Precio', 'Clasificación', 'PrecioCompra',\n",
      "       'NúmeroProveedor'],\n",
      "      dtype='object')\n"
     ]
    }
   ],
   "source": [
    "print(df.columns)"
   ]
  },
  {
   "cell_type": "code",
   "execution_count": 17,
   "metadata": {},
   "outputs": [
    {
     "data": {
      "text/plain": [
       "Marca              0\n",
       "Descripción        0\n",
       "Precio             0\n",
       "Clasificación      0\n",
       "PrecioCompra       0\n",
       "NúmeroProveedor    0\n",
       "dtype: int64"
      ]
     },
     "execution_count": 17,
     "metadata": {},
     "output_type": "execute_result"
    }
   ],
   "source": [
    "df.isnull().sum() #busco nulos"
   ]
  },
  {
   "cell_type": "code",
   "execution_count": 18,
   "metadata": {},
   "outputs": [
    {
     "name": "stdout",
     "output_type": "stream",
     "text": [
      "Empty DataFrame\n",
      "Columns: [Marca, Descripción, Precio, Clasificación, PrecioCompra, NúmeroProveedor]\n",
      "Index: []\n"
     ]
    }
   ],
   "source": [
    "duplicados = df[df.duplicated()]\n",
    "\n",
    "print(duplicados)"
   ]
  },
  {
   "cell_type": "markdown",
   "metadata": {},
   "source": [
    "No se encontraron duplicados"
   ]
  },
  {
   "cell_type": "code",
   "execution_count": 19,
   "metadata": {},
   "outputs": [
    {
     "name": "stdout",
     "output_type": "stream",
     "text": [
      "<class 'pandas.core.frame.DataFrame'>\n",
      "RangeIndex: 12261 entries, 0 to 12260\n",
      "Data columns (total 6 columns):\n",
      " #   Column           Non-Null Count  Dtype  \n",
      "---  ------           --------------  -----  \n",
      " 0   Marca            12261 non-null  int64  \n",
      " 1   Descripción      12261 non-null  object \n",
      " 2   Precio           12261 non-null  float64\n",
      " 3   Clasificación    12261 non-null  int64  \n",
      " 4   PrecioCompra     12261 non-null  float64\n",
      " 5   NúmeroProveedor  12261 non-null  int64  \n",
      "dtypes: float64(2), int64(3), object(1)\n",
      "memory usage: 574.9+ KB\n",
      "None\n"
     ]
    }
   ],
   "source": [
    "print(df.info())  # Información de columnas y tipos de datos"
   ]
  },
  {
   "cell_type": "code",
   "execution_count": 20,
   "metadata": {},
   "outputs": [],
   "source": [
    "import matplotlib.pyplot as plt\n",
    "import seaborn as sns"
   ]
  },
  {
   "cell_type": "code",
   "execution_count": 21,
   "metadata": {},
   "outputs": [
    {
     "data": {
      "image/png": "[encoded data removed]",
      "text/plain": [
       "<Figure size 640x480 with 1 Axes>"
      ]
     },
     "metadata": {},
     "output_type": "display_data"
    }
   ],
   "source": [
    "# Relación entre NúmeroProveedor y PrecioCompra\n",
    "sns.scatterplot(data=df, x='NúmeroProveedor', y='PrecioCompra')\n",
    "plt.xticks (rotation=45)\n",
    "plt.show()"
   ]
  },
  {
   "cell_type": "code",
   "execution_count": 22,
   "metadata": {},
   "outputs": [
    {
     "name": "stdout",
     "output_type": "stream",
     "text": [
      "Requirement already satisfied: sqlalchemy in c:\\users\\bianc\\appdata\\local\\programs\\python\\python312\\lib\\site-packages (2.0.35)\n",
      "Requirement already satisfied: pyodbc in c:\\users\\bianc\\appdata\\local\\programs\\python\\python312\\lib\\site-packages (5.1.0)\n",
      "Requirement already satisfied: typing-extensions>=4.6.0 in c:\\users\\bianc\\appdata\\local\\programs\\python\\python312\\lib\\site-packages (from sqlalchemy) (4.12.2)\n",
      "Requirement already satisfied: greenlet!=0.4.17 in c:\\users\\bianc\\appdata\\local\\programs\\python\\python312\\lib\\site-packages (from sqlalchemy) (3.1.1)\n",
      "Note: you may need to restart the kernel to use updated packages.\n"
     ]
    },
    {
     "name": "stderr",
     "output_type": "stream",
     "text": [
      "\n",
      "[notice] A new release of pip is available: 24.0 -> 24.2\n",
      "[notice] To update, run: python.exe -m pip install --upgrade pip\n"
     ]
    }
   ],
   "source": [
    "pip install sqlalchemy pyodbc"
   ]
  },
  {
   "cell_type": "code",
   "execution_count": 23,
   "metadata": {},
   "outputs": [
    {
     "name": "stdout",
     "output_type": "stream",
     "text": [
      "Marca\n",
      "Mediana: 18788.0\n",
      "Varianza:  156963399.05\n",
      "Rango: 90573\n",
      "Moda: 58\n",
      "--------------------------------\n",
      "Precio\n",
      "Mediana: 15.99\n",
      "Varianza:  42498.31\n",
      "Rango: 13999.9\n",
      "Moda: 9.99\n",
      "--------------------------------\n",
      "Clasificación\n",
      "Mediana: 2.0\n",
      "Varianza:  0.21\n",
      "Rango: 1\n",
      "Moda: 2\n",
      "--------------------------------\n",
      "PrecioCompra\n",
      "Mediana: 10.65\n",
      "Varianza:  24393.11\n",
      "Rango: 11111.03\n",
      "Moda: 6.53\n",
      "--------------------------------\n",
      "NúmeroProveedor\n",
      "Mediana: 7153.0\n",
      "Varianza:  361291987.26\n",
      "Rango: 173355\n",
      "Moda: 4425\n",
      "--------------------------------\n"
     ]
    }
   ],
   "source": [
    "def calcular_estadisticas(data): \n",
    "    for columna in data.columns:\n",
    "        if data[columna].dtype == 'float64' or data[columna].dtype == 'int64':\n",
    "            print(columna)\n",
    "            print('Mediana:', data[columna].median())\n",
    "            print('Varianza: ', np.around((data[columna].var()),decimals=2)) # Casteo (redondeo) a 2 decimales\n",
    "            print('Rango:', data[columna].max() - data[columna].min())\n",
    "            print('Moda:', data[columna].mode()[0])\n",
    "            print('--------------------------------')\n",
    "\n",
    "calcular_estadisticas(df)"
   ]
  },
  {
   "cell_type": "code",
   "execution_count": 24,
   "metadata": {},
   "outputs": [],
   "source": [
    "# Guardar el DataFrame transformado\n",
    "df.to_csv(r'C:\\Users\\bianc\\OneDrive\\Escritorio\\proyectofinal\\Limpieza2017PurchasePricesDec', index=False)   "
   ]
  },
  {
   "cell_type": "code",
   "execution_count": 25,
   "metadata": {},
   "outputs": [],
   "source": [
    "#carga archivo csv\n",
    "df2 = pd.read_csv(r'C:\\Users\\bianc\\OneDrive\\Escritorio\\proyectofinal\\Limpieza2017PurchasePricesDec')"
   ]
  },
  {
   "cell_type": "code",
   "execution_count": 26,
   "metadata": {},
   "outputs": [
    {
     "name": "stdout",
     "output_type": "stream",
     "text": [
      "<class 'pandas.core.frame.DataFrame'>\n",
      "RangeIndex: 12261 entries, 0 to 12260\n",
      "Data columns (total 6 columns):\n",
      " #   Column           Non-Null Count  Dtype  \n",
      "---  ------           --------------  -----  \n",
      " 0   Marca            12261 non-null  int64  \n",
      " 1   Descripción      12261 non-null  object \n",
      " 2   Precio           12261 non-null  float64\n",
      " 3   Clasificación    12261 non-null  int64  \n",
      " 4   PrecioCompra     12261 non-null  float64\n",
      " 5   NúmeroProveedor  12261 non-null  int64  \n",
      "dtypes: float64(2), int64(3), object(1)\n",
      "memory usage: 574.9+ KB\n",
      "None\n"
     ]
    }
   ],
   "source": [
    "print(df2.info()) "
   ]
  },
  {
   "cell_type": "code",
   "execution_count": 30,
   "metadata": {},
   "outputs": [
    {
     "name": "stdout",
     "output_type": "stream",
     "text": [
      "Datos exportados exitosamente a la tabla PrecioCompra en la base de datos PremiumDrinks\n"
     ]
    }
   ],
   "source": [
    "import pyodbc\n",
    "import pandas as pd\n",
    "from sqlalchemy import create_engine, types\n",
    "\n",
    "PrecioCompra_df = pd.read_csv(r'C:\\Users\\bianc\\OneDrive\\Escritorio\\proyectofinal\\Limpieza2017PurchasePricesDec')\n",
    "# Asegurar que las columnas tengan los tipos de datos correctos\n",
    "PrecioCompra_df['Marca'] = PrecioCompra_df['Marca'].astype(int)\n",
    "PrecioCompra_df['Descripción'] = PrecioCompra_df['Descripción'].astype(str)  # Convertir a string para usar NVARCHAR en SQL\n",
    "PrecioCompra_df['Precio'] = PrecioCompra_df['Precio'].astype(float)\n",
    "PrecioCompra_df['Clasificación'] =PrecioCompra_df['Clasificación'].astype(int)\n",
    "PrecioCompra_df['PrecioCompra'] = PrecioCompra_df['PrecioCompra'].astype(float)\n",
    "PrecioCompra_df['NúmeroProveedor'] = PrecioCompra_df['NúmeroProveedor'].astype(int)\n",
    "\n",
    "# Crear la conexión con SQL Server usando autenticación de Windows\n",
    "# Usando el nombre del servidor SQLEXPRESS y Trusted Connection\n",
    "engine = create_engine('mssql+pyodbc://BIANCA\\SQLEXPRESS/PremiumDrinks?trusted_connection=yes&driver=ODBC+Driver+18+for+SQL+Server&TrustServerCertificate=yes')\n",
    "\n",
    "# Especificar los tipos de datos para cada columna en SQL Server\n",
    "dtype_sql = {\n",
    "    'Marca': types.INTEGER,  # INTEGER para la columna Marca\n",
    "    'Descripción': types.VARCHAR(length=255),  # VARCHAR para la columna Descripción\n",
    "    'Precio': types.FLOAT,  # FLOAT para la columna Precio\n",
    "    'Volumen': types.INTEGER,  # INTEGER para la columna Volumen\n",
    "    'Clasificación': types.INTEGER,  # INTEGER para la columna Clasificación\n",
    "    'PrecioCompra': types.FLOAT,  # FLOAT para la columna PrecioCompra\n",
    "    'NúmeroProveedor': types.INTEGER,  # INTEGER para la columna Número de Proveedor\n",
    "    'NombreProveedor': types.VARCHAR(length=255),  # VARCHAR para la columna Nombre del Proveedor\n",
    "}\n",
    "\n",
    "# Exportar el DataFrame a una tabla SQL llamada PrecioCompra\n",
    "PrecioCompra_df.to_sql('PrecioCompra', con=engine, if_exists='replace', index=False, dtype=dtype_sql)\n",
    "\n",
    "print(\"Datos exportados exitosamente a la tabla PrecioCompra en la base de datos PremiumDrinks\")"
   ]
  }
 ],
 "metadata": {
  "kernelspec": {
   "display_name": "Python 3",
   "language": "python",
   "name": "python3"
  },
  "language_info": {
   "codemirror_mode": {
    "name": "ipython",
    "version": 3
   },
   "file_extension": ".py",
   "mimetype": "text/x-python",
   "name": "python",
   "nbconvert_exporter": "python",
   "pygments_lexer": "ipython3",
   "version": "3.12.2"
  }
 },
 "nbformat": 4,
 "nbformat_minor": 2
}
