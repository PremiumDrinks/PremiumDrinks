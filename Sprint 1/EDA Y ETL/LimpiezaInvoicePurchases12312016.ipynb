{
 "cells": [
  {
   "cell_type": "code",
   "execution_count": 1,
   "metadata": {},
   "outputs": [
    {
     "name": "stdout",
     "output_type": "stream",
     "text": [
      "Requirement already satisfied: pandas in c:\\users\\bianc\\appdata\\local\\programs\\python\\python312\\lib\\site-packages (2.2.2)\n",
      "Requirement already satisfied: numpy in c:\\users\\bianc\\appdata\\local\\programs\\python\\python312\\lib\\site-packages (2.1.0)\n",
      "Requirement already satisfied: matplotlib in c:\\users\\bianc\\appdata\\local\\programs\\python\\python312\\lib\\site-packages (3.9.2)\n",
      "Requirement already satisfied: seaborn in c:\\users\\bianc\\appdata\\local\\programs\\python\\python312\\lib\\site-packages (0.13.2)\n",
      "Requirement already satisfied: python-dateutil>=2.8.2 in c:\\users\\bianc\\appdata\\roaming\\python\\python312\\site-packages (from pandas) (2.9.0.post0)\n",
      "Requirement already satisfied: pytz>=2020.1 in c:\\users\\bianc\\appdata\\local\\programs\\python\\python312\\lib\\site-packages (from pandas) (2024.1)\n",
      "Requirement already satisfied: tzdata>=2022.7 in c:\\users\\bianc\\appdata\\local\\programs\\python\\python312\\lib\\site-packages (from pandas) (2024.1)\n",
      "Requirement already satisfied: contourpy>=1.0.1 in c:\\users\\bianc\\appdata\\local\\programs\\python\\python312\\lib\\site-packages (from matplotlib) (1.3.0)\n",
      "Requirement already satisfied: cycler>=0.10 in c:\\users\\bianc\\appdata\\local\\programs\\python\\python312\\lib\\site-packages (from matplotlib) (0.12.1)\n",
      "Requirement already satisfied: fonttools>=4.22.0 in c:\\users\\bianc\\appdata\\local\\programs\\python\\python312\\lib\\site-packages (from matplotlib) (4.53.1)\n",
      "Requirement already satisfied: kiwisolver>=1.3.1 in c:\\users\\bianc\\appdata\\local\\programs\\python\\python312\\lib\\site-packages (from matplotlib) (1.4.7)\n",
      "Requirement already satisfied: packaging>=20.0 in c:\\users\\bianc\\appdata\\roaming\\python\\python312\\site-packages (from matplotlib) (24.1)\n",
      "Requirement already satisfied: pillow>=8 in c:\\users\\bianc\\appdata\\local\\programs\\python\\python312\\lib\\site-packages (from matplotlib) (10.4.0)\n",
      "Requirement already satisfied: pyparsing>=2.3.1 in c:\\users\\bianc\\appdata\\local\\programs\\python\\python312\\lib\\site-packages (from matplotlib) (3.1.4)\n",
      "Requirement already satisfied: six>=1.5 in c:\\users\\bianc\\appdata\\roaming\\python\\python312\\site-packages (from python-dateutil>=2.8.2->pandas) (1.16.0)\n"
     ]
    },
    {
     "name": "stderr",
     "output_type": "stream",
     "text": [
      "\n",
      "[notice] A new release of pip is available: 24.0 -> 24.2\n",
      "[notice] To update, run: python.exe -m pip install --upgrade pip\n"
     ]
    }
   ],
   "source": [
    "! pip install pandas numpy matplotlib seaborn"
   ]
  },
  {
   "cell_type": "code",
   "execution_count": 2,
   "metadata": {},
   "outputs": [],
   "source": [
    "! pip freeze > requirements.txt"
   ]
  },
  {
   "cell_type": "markdown",
   "metadata": {},
   "source": [
    "Carga del archivo CSV en un Dataframe de Pandas:"
   ]
  },
  {
   "cell_type": "code",
   "execution_count": 4,
   "metadata": {},
   "outputs": [],
   "source": [
    "import pandas as pd\n",
    "\n",
    "# Carga del archivo CSV\n",
    "df = pd.read_csv(r'C:\\Users\\bianc\\OneDrive\\Escritorio\\proyectofinal\\InvoicePurchases12312016_Clean.csv')"
   ]
  },
  {
   "cell_type": "code",
   "execution_count": 5,
   "metadata": {},
   "outputs": [
    {
     "name": "stdout",
     "output_type": "stream",
     "text": [
      "   VendorNumber                   VendorName InvoiceDate  PONumber  \\\n",
      "0           105  ALTAMAR BRANDS LLC           2016-01-04      8124   \n",
      "1          4466  AMERICAN VINTAGE BEVERAGE    2016-01-07      8137   \n",
      "2           388  ATLANTIC IMPORTING COMPANY   2016-01-09      8169   \n",
      "3           480  BACARDI USA INC              2016-01-12      8106   \n",
      "4           516  BANFI PRODUCTS CORP          2016-01-07      8170   \n",
      "\n",
      "       PODate     PayDate  Quantity    Dollars  Freight  \n",
      "0  2015-12-21  2016-02-16         6     214.26     3.47  \n",
      "1  2015-12-22  2016-02-21        15     140.55     8.57  \n",
      "2  2015-12-24  2016-02-16         5     106.60     4.61  \n",
      "3  2015-12-20  2016-02-05     10100  137483.78  2935.20  \n",
      "4  2015-12-24  2016-02-12      1935   15527.25   429.20  \n"
     ]
    }
   ],
   "source": [
    "print(df.head())  # Muestra las primeras filas"
   ]
  },
  {
   "cell_type": "code",
   "execution_count": 6,
   "metadata": {},
   "outputs": [],
   "source": [
    "import warnings\n",
    "warnings.filterwarnings(\"ignore\")"
   ]
  },
  {
   "cell_type": "code",
   "execution_count": 7,
   "metadata": {},
   "outputs": [],
   "source": [
    "df.rename(columns={\n",
    "    'VendorNumber': 'NúmeroProveedor',\n",
    "    'VendorName': 'NombreProveedor',\n",
    "    'InvoiceDate': 'FechaFactura',\n",
    "    'PONumber': 'NúmeroOrdenCompra',\n",
    "    'PODate': 'FechaOrdenCompra',\n",
    "    'PayDate': 'FechaPago',\n",
    "    'Quantity': 'Cantidad',\n",
    "    'Dollars': 'ValorenDólares',\n",
    "    'Freight': 'CostodeEnvio'\n",
    "}, inplace=True)"
   ]
  },
  {
   "cell_type": "code",
   "execution_count": 8,
   "metadata": {},
   "outputs": [
    {
     "name": "stdout",
     "output_type": "stream",
     "text": [
      "   NúmeroProveedor              NombreProveedor FechaFactura  \\\n",
      "0              105  ALTAMAR BRANDS LLC            2016-01-04   \n",
      "1             4466  AMERICAN VINTAGE BEVERAGE     2016-01-07   \n",
      "2              388  ATLANTIC IMPORTING COMPANY    2016-01-09   \n",
      "3              480  BACARDI USA INC               2016-01-12   \n",
      "4              516  BANFI PRODUCTS CORP           2016-01-07   \n",
      "\n",
      "   NúmeroOrdenCompra FechaOrdenCompra   FechaPago  Cantidad  ValorenDólares  \\\n",
      "0               8124       2015-12-21  2016-02-16         6          214.26   \n",
      "1               8137       2015-12-22  2016-02-21        15          140.55   \n",
      "2               8169       2015-12-24  2016-02-16         5          106.60   \n",
      "3               8106       2015-12-20  2016-02-05     10100       137483.78   \n",
      "4               8170       2015-12-24  2016-02-12      1935        15527.25   \n",
      "\n",
      "   CostodeEnvio  \n",
      "0          3.47  \n",
      "1          8.57  \n",
      "2          4.61  \n",
      "3       2935.20  \n",
      "4        429.20  \n"
     ]
    }
   ],
   "source": [
    "print(df.head())  # Muestra las primeras filas"
   ]
  },
  {
   "cell_type": "markdown",
   "metadata": {},
   "source": [
    "Elimino las columnas que no voy a utilizar:"
   ]
  },
  {
   "cell_type": "code",
   "execution_count": 11,
   "metadata": {},
   "outputs": [],
   "source": [
    "df.drop(columns=['NombreProveedor'], inplace=True)"
   ]
  },
  {
   "cell_type": "code",
   "execution_count": 12,
   "metadata": {},
   "outputs": [
    {
     "name": "stdout",
     "output_type": "stream",
     "text": [
      "   NúmeroProveedor FechaFactura  NúmeroOrdenCompra FechaOrdenCompra  \\\n",
      "0              105   2016-01-04               8124       2015-12-21   \n",
      "1             4466   2016-01-07               8137       2015-12-22   \n",
      "2              388   2016-01-09               8169       2015-12-24   \n",
      "3              480   2016-01-12               8106       2015-12-20   \n",
      "4              516   2016-01-07               8170       2015-12-24   \n",
      "\n",
      "    FechaPago  Cantidad  ValorenDólares  CostodeEnvio  \n",
      "0  2016-02-16         6          214.26          3.47  \n",
      "1  2016-02-21        15          140.55          8.57  \n",
      "2  2016-02-16         5          106.60          4.61  \n",
      "3  2016-02-05     10100       137483.78       2935.20  \n",
      "4  2016-02-12      1935        15527.25        429.20  \n"
     ]
    }
   ],
   "source": [
    "print(df.head())  # Muestra las primeras filas"
   ]
  },
  {
   "cell_type": "code",
   "execution_count": 13,
   "metadata": {},
   "outputs": [],
   "source": [
    "! pip freeze > requirements.txt"
   ]
  },
  {
   "cell_type": "code",
   "execution_count": 14,
   "metadata": {},
   "outputs": [
    {
     "name": "stdout",
     "output_type": "stream",
     "text": [
      "<class 'pandas.core.frame.DataFrame'>\n",
      "RangeIndex: 5543 entries, 0 to 5542\n",
      "Data columns (total 8 columns):\n",
      " #   Column             Non-Null Count  Dtype  \n",
      "---  ------             --------------  -----  \n",
      " 0   NúmeroProveedor    5543 non-null   int64  \n",
      " 1   FechaFactura       5543 non-null   object \n",
      " 2   NúmeroOrdenCompra  5543 non-null   int64  \n",
      " 3   FechaOrdenCompra   5543 non-null   object \n",
      " 4   FechaPago          5543 non-null   object \n",
      " 5   Cantidad           5543 non-null   int64  \n",
      " 6   ValorenDólares     5543 non-null   float64\n",
      " 7   CostodeEnvio       5543 non-null   float64\n",
      "dtypes: float64(2), int64(3), object(3)\n",
      "memory usage: 346.6+ KB\n",
      "None\n"
     ]
    }
   ],
   "source": [
    "print(df.info())  # Información de columnas y tipos de datos"
   ]
  },
  {
   "cell_type": "markdown",
   "metadata": {},
   "source": [
    "Visualización del tamaño del Dataframe (Filas y Columnas):"
   ]
  },
  {
   "cell_type": "code",
   "execution_count": 15,
   "metadata": {},
   "outputs": [],
   "source": [
    "import numpy as np"
   ]
  },
  {
   "cell_type": "code",
   "execution_count": 16,
   "metadata": {},
   "outputs": [
    {
     "data": {
      "text/plain": [
       "(5543, 8)"
      ]
     },
     "execution_count": 16,
     "metadata": {},
     "output_type": "execute_result"
    }
   ],
   "source": [
    "np.shape(df)"
   ]
  },
  {
   "cell_type": "markdown",
   "metadata": {},
   "source": [
    "Conversión del tipo de datos:"
   ]
  },
  {
   "cell_type": "code",
   "execution_count": 18,
   "metadata": {},
   "outputs": [],
   "source": [
    "df['FechaOrdenCompra'] = pd.to_datetime(df['FechaOrdenCompra'], format='%Y-%m-%d')\n",
    "df['Fechapago'] = pd.to_datetime(df['FechaPago'], format='%Y-%m-%d')\n",
    "df['ValorenDólares'] = pd.to_numeric(df['ValorenDólares'], errors='coerce')\n",
    "df['CostodeEnvio'] = pd.to_numeric(df['CostodeEnvio'], errors='coerce')\n",
    "df['NúmeroOrdenCompra'] = pd.to_numeric(df['NúmeroOrdenCompra'], errors='coerce')"
   ]
  },
  {
   "cell_type": "code",
   "execution_count": 19,
   "metadata": {},
   "outputs": [
    {
     "name": "stdout",
     "output_type": "stream",
     "text": [
      "Index(['NúmeroProveedor', 'FechaFactura', 'NúmeroOrdenCompra',\n",
      "       'FechaOrdenCompra', 'FechaPago', 'Cantidad', 'ValorenDólares',\n",
      "       'CostodeEnvio', 'Fechapago'],\n",
      "      dtype='object')\n"
     ]
    }
   ],
   "source": [
    "print(df.columns)"
   ]
  },
  {
   "cell_type": "code",
   "execution_count": 20,
   "metadata": {},
   "outputs": [
    {
     "data": {
      "text/plain": [
       "NúmeroProveedor      0\n",
       "FechaFactura         0\n",
       "NúmeroOrdenCompra    0\n",
       "FechaOrdenCompra     0\n",
       "FechaPago            0\n",
       "Cantidad             0\n",
       "ValorenDólares       0\n",
       "CostodeEnvio         0\n",
       "Fechapago            0\n",
       "dtype: int64"
      ]
     },
     "execution_count": 20,
     "metadata": {},
     "output_type": "execute_result"
    }
   ],
   "source": [
    "df.isnull().sum() #busco nulos"
   ]
  },
  {
   "cell_type": "code",
   "execution_count": 21,
   "metadata": {},
   "outputs": [
    {
     "name": "stdout",
     "output_type": "stream",
     "text": [
      "Empty DataFrame\n",
      "Columns: [NúmeroProveedor, FechaFactura, NúmeroOrdenCompra, FechaOrdenCompra, FechaPago, Cantidad, ValorenDólares, CostodeEnvio, Fechapago]\n",
      "Index: []\n"
     ]
    }
   ],
   "source": [
    "duplicados = df[df.duplicated()]\n",
    "\n",
    "print(duplicados)"
   ]
  },
  {
   "cell_type": "code",
   "execution_count": 22,
   "metadata": {},
   "outputs": [
    {
     "name": "stdout",
     "output_type": "stream",
     "text": [
      "<class 'pandas.core.frame.DataFrame'>\n",
      "RangeIndex: 5543 entries, 0 to 5542\n",
      "Data columns (total 9 columns):\n",
      " #   Column             Non-Null Count  Dtype         \n",
      "---  ------             --------------  -----         \n",
      " 0   NúmeroProveedor    5543 non-null   int64         \n",
      " 1   FechaFactura       5543 non-null   object        \n",
      " 2   NúmeroOrdenCompra  5543 non-null   int64         \n",
      " 3   FechaOrdenCompra   5543 non-null   datetime64[ns]\n",
      " 4   FechaPago          5543 non-null   object        \n",
      " 5   Cantidad           5543 non-null   int64         \n",
      " 6   ValorenDólares     5543 non-null   float64       \n",
      " 7   CostodeEnvio       5543 non-null   float64       \n",
      " 8   Fechapago          5543 non-null   datetime64[ns]\n",
      "dtypes: datetime64[ns](2), float64(2), int64(3), object(2)\n",
      "memory usage: 389.9+ KB\n",
      "None\n"
     ]
    }
   ],
   "source": [
    "print(df.info())  # Información de columnas y tipos de datos"
   ]
  },
  {
   "cell_type": "code",
   "execution_count": 23,
   "metadata": {},
   "outputs": [],
   "source": [
    "import matplotlib.pyplot as plt\n",
    "import seaborn as sns"
   ]
  },
  {
   "cell_type": "code",
   "execution_count": 24,
   "metadata": {},
   "outputs": [
    {
     "data": {
      "image/png": "[encoded data removed]",
      "text/plain": [
       "<Figure size 640x480 with 1 Axes>"
      ]
     },
     "metadata": {},
     "output_type": "display_data"
    }
   ],
   "source": [
    "import matplotlib.pyplot as plt\n",
    "import seaborn as sns\n",
    "\n",
    "sns.histplot(df['Cantidad'], bins=20, kde=False)\n",
    "plt.title('Distribución de la Cantidad de Productos Vendidos')\n",
    "plt.xlabel('Cantidad')\n",
    "plt.ylabel('Frecuencia')\n",
    "plt.show()"
   ]
  },
  {
   "cell_type": "code",
   "execution_count": 26,
   "metadata": {},
   "outputs": [
    {
     "name": "stdout",
     "output_type": "stream",
     "text": [
      "Requirement already satisfied: sqlalchemy in c:\\users\\bianc\\appdata\\local\\programs\\python\\python312\\lib\\site-packages (2.0.35)\n",
      "Requirement already satisfied: pyodbc in c:\\users\\bianc\\appdata\\local\\programs\\python\\python312\\lib\\site-packages (5.1.0)\n",
      "Requirement already satisfied: typing-extensions>=4.6.0 in c:\\users\\bianc\\appdata\\local\\programs\\python\\python312\\lib\\site-packages (from sqlalchemy) (4.12.2)\n",
      "Requirement already satisfied: greenlet!=0.4.17 in c:\\users\\bianc\\appdata\\local\\programs\\python\\python312\\lib\\site-packages (from sqlalchemy) (3.1.1)\n",
      "Note: you may need to restart the kernel to use updated packages.\n"
     ]
    },
    {
     "name": "stderr",
     "output_type": "stream",
     "text": [
      "\n",
      "[notice] A new release of pip is available: 24.0 -> 24.2\n",
      "[notice] To update, run: python.exe -m pip install --upgrade pip\n"
     ]
    }
   ],
   "source": [
    "pip install sqlalchemy pyodbc"
   ]
  },
  {
   "cell_type": "code",
   "execution_count": 27,
   "metadata": {},
   "outputs": [
    {
     "name": "stdout",
     "output_type": "stream",
     "text": [
      "NúmeroProveedor\n",
      "Mediana: 7240.0\n",
      "Varianza:  1195925680.28\n",
      "Rango: 201357\n",
      "Moda: 4425\n",
      "--------------------------------\n",
      "NúmeroOrdenCompra\n",
      "Mediana: 10890.0\n",
      "Varianza:  2562752.64\n",
      "Rango: 5555\n",
      "Moda: 8106\n",
      "--------------------------------\n",
      "Cantidad\n",
      "Mediana: 423.0\n",
      "Varianza:  208898984.07\n",
      "Rango: 141659\n",
      "Moda: 12\n",
      "--------------------------------\n",
      "ValorenDólares\n",
      "Mediana: 4765.45\n",
      "Varianza:  19665583556.16\n",
      "Rango: 1660431.74\n",
      "Moda: 214.26\n",
      "--------------------------------\n",
      "CostodeEnvio\n",
      "Mediana: 24.73\n",
      "Varianza:  509203.69\n",
      "Rango: 8468.199999999999\n",
      "Moda: 0.26\n",
      "--------------------------------\n"
     ]
    }
   ],
   "source": [
    "def calcular_estadisticas(data): \n",
    "    for columna in data.columns:\n",
    "        if data[columna].dtype == 'float64' or data[columna].dtype == 'int64':\n",
    "            print(columna)\n",
    "            print('Mediana:', data[columna].median())\n",
    "            print('Varianza: ', np.around((data[columna].var()),decimals=2)) # Casteo (redondeo) a 2 decimales\n",
    "            print('Rango:', data[columna].max() - data[columna].min())\n",
    "            print('Moda:', data[columna].mode()[0])\n",
    "            print('--------------------------------')\n",
    "\n",
    "calcular_estadisticas(df)"
   ]
  },
  {
   "cell_type": "code",
   "execution_count": 28,
   "metadata": {},
   "outputs": [],
   "source": [
    "# Guardar el DataFrame transformado\n",
    "df.to_csv(r'C:\\Users\\bianc\\OneDrive\\Escritorio\\proyectofinal\\LimpiezaInvoicePurchasesFINAL12312016', index=False) "
   ]
  },
  {
   "cell_type": "code",
   "execution_count": 29,
   "metadata": {},
   "outputs": [],
   "source": [
    "#carga archivo csv\n",
    "df2 = pd.read_csv(r'C:\\Users\\bianc\\OneDrive\\Escritorio\\proyectofinal\\LimpiezaInvoicePurchasesFINAL12312016')"
   ]
  },
  {
   "cell_type": "code",
   "execution_count": 30,
   "metadata": {},
   "outputs": [
    {
     "name": "stdout",
     "output_type": "stream",
     "text": [
      "<class 'pandas.core.frame.DataFrame'>\n",
      "RangeIndex: 5543 entries, 0 to 5542\n",
      "Data columns (total 9 columns):\n",
      " #   Column             Non-Null Count  Dtype  \n",
      "---  ------             --------------  -----  \n",
      " 0   NúmeroProveedor    5543 non-null   int64  \n",
      " 1   FechaFactura       5543 non-null   object \n",
      " 2   NúmeroOrdenCompra  5543 non-null   int64  \n",
      " 3   FechaOrdenCompra   5543 non-null   object \n",
      " 4   FechaPago          5543 non-null   object \n",
      " 5   Cantidad           5543 non-null   int64  \n",
      " 6   ValorenDólares     5543 non-null   float64\n",
      " 7   CostodeEnvio       5543 non-null   float64\n",
      " 8   Fechapago          5543 non-null   object \n",
      "dtypes: float64(2), int64(3), object(4)\n",
      "memory usage: 389.9+ KB\n",
      "None\n"
     ]
    }
   ],
   "source": [
    "print(df2.info()) "
   ]
  },
  {
   "cell_type": "code",
   "execution_count": 39,
   "metadata": {},
   "outputs": [
    {
     "name": "stdout",
     "output_type": "stream",
     "text": [
      "Datos exportados exitosamente a la tabla Compras2016 en la base de datos PremiumDrinks\n"
     ]
    }
   ],
   "source": [
    "import pyodbc\n",
    "import pandas as pd\n",
    "from sqlalchemy import create_engine, types\n",
    "\n",
    "facturas_df = pd.read_csv(r'C:\\Users\\bianc\\OneDrive\\Escritorio\\proyectofinal\\LimpiezaInvoicePurchasesFINAL12312016')\n",
    "\n",
    "facturas_df['NúmeroProveedor'] = facturas_df['NúmeroProveedor'].astype(str)  # Convertir a string para usar VARCHAR en SQL\n",
    "facturas_df['FechaFactura'] = pd.to_datetime(facturas_df['FechaFactura']) \n",
    "facturas_df['FechaOrdenCompra'] = pd.to_datetime(facturas_df['FechaOrdenCompra'])\n",
    "facturas_df['FechaPago'] = pd.to_datetime(facturas_df['FechaPago'])\n",
    "\n",
    "facturas_df = facturas_df.drop(columns=['Fechapago'], errors='ignore')\n",
    "\n",
    "# Crear la conexión con SQL Server usando autenticación de Windows\n",
    "# Usando el nombre del servidor SQLEXPRESS y Trusted Connection\n",
    "engine = create_engine('mssql+pyodbc://BIANCA\\SQLEXPRESS/PremiumDrinks?trusted_connection=yes&driver=ODBC+Driver+18+for+SQL+Server&TrustServerCertificate=yes')\n",
    "\n",
    "# Especificar los tipos de datos para cada columna en SQL Server\n",
    "dtype_sql = {\n",
    "     'NúmeroProveedor': types.INTEGER,\n",
    "    'FechaFactura': types.DATE,\n",
    "    'NúmeroOrdenCompra': types.INTEGER,\n",
    "    'FechaOrdenCompra': types.DATE,\n",
    "    'FechaPago': types.DATE,  # Mantén solo 'FechaPago'\n",
    "    'Cantidad': types.INTEGER,\n",
    "    'ValorenDólares': types.FLOAT,\n",
    "    'CostodeEnvio': types.FLOAT\n",
    "    \n",
    "}\n",
    "\n",
    "# Exportar el DataFrame a una tabla SQL llamada Ventas2016\n",
    "facturas_df.to_sql('Facturas', con=engine, if_exists='replace', index=False, dtype=dtype_sql)\n",
    "\n",
    "print(\"Datos exportados exitosamente a la tabla Compras2016 en la base de datos PremiumDrinks\")"
   ]
  }
 ],
 "metadata": {
  "kernelspec": {
   "display_name": "Python 3",
   "language": "python",
   "name": "python3"
  },
  "language_info": {
   "codemirror_mode": {
    "name": "ipython",
    "version": 3
   },
   "file_extension": ".py",
   "mimetype": "text/x-python",
   "name": "python",
   "nbconvert_exporter": "python",
   "pygments_lexer": "ipython3",
   "version": "3.12.2"
  }
 },
 "nbformat": 4,
 "nbformat_minor": 2
}
