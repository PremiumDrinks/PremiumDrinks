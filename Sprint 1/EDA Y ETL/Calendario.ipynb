{
 "cells": [
  {
   "cell_type": "code",
   "execution_count": 1,
   "metadata": {},
   "outputs": [
    {
     "name": "stdout",
     "output_type": "stream",
     "text": [
      "Tabla CALENDARIO creada exitosamente con los datos de fechas.\n",
      "Clave primaria agregada exitosamente a la tabla CALENDARIO.\n"
     ]
    }
   ],
   "source": [
    "import pandas as pd\n",
    "import numpy as np\n",
    "from sqlalchemy import create_engine, types, text\n",
    "from datetime import datetime, timedelta\n",
    "\n",
    "# Crear conexión con SQL Server usando autenticación de Windows\n",
    "engine = create_engine('mssql+pyodbc://BIANCA\\\\SQLEXPRESS/PremiumDrinks?trusted_connection=yes&driver=ODBC+Driver+18+for+SQL+Server&TrustServerCertificate=yes')\n",
    "\n",
    "# Crear un rango de fechas para tu calendario (por ejemplo, de 2016 a 2024)\n",
    "inicio_fecha = datetime(2016, 1, 1)\n",
    "fin_fecha = datetime(2024, 12, 31)\n",
    "fechas = pd.date_range(start=inicio_fecha, end=fin_fecha)\n",
    "\n",
    "# Crear el DataFrame de calendario\n",
    "calendario_df = pd.DataFrame({\n",
    "    'FECHA': fechas,\n",
    "    'Año': fechas.year,\n",
    "    'Mes': fechas.month,\n",
    "    'Día': fechas.day,\n",
    "    'Semana': fechas.isocalendar().week,\n",
    "    'EsFestivo': np.where((fechas.month == 12) & (fechas.day == 25), 1, 0)  # Ejemplo: solo marca el 25 de diciembre como festivo\n",
    "})\n",
    "\n",
    "# Puedes agregar más días festivos según tu región, ajustando las condiciones en 'EsFestivo'\n",
    "# Añadamos más ejemplos de festivos (ajusta según el país):\n",
    "festivos = [\n",
    "    '2024-01-01',  # Año Nuevo\n",
    "    '2024-12-25',  # Navidad\n",
    "    # Añade más fechas festivas\n",
    "]\n",
    "calendario_df['EsFestivo'] = calendario_df['FECHA'].isin(pd.to_datetime(festivos)).astype(int)\n",
    "\n",
    "# Verificar y eliminar duplicados (aunque no debería haber)\n",
    "calendario_df = calendario_df.drop_duplicates(subset=['FECHA']).dropna(subset=['FECHA'])\n",
    "\n",
    "# Especificar los tipos de datos para cada columna en SQL Server\n",
    "dtype_sql_calendario = {\n",
    "    'FECHA': types.DATE,\n",
    "    'Año': types.INTEGER,\n",
    "    'Mes': types.INTEGER,\n",
    "    'Día': types.INTEGER,\n",
    "    'Semana': types.INTEGER,\n",
    "    'EsFestivo': types.INTEGER\n",
    "}\n",
    "\n",
    "# Exportar el DataFrame de calendario a una tabla SQL llamada CALENDARIO\n",
    "calendario_df.to_sql('CALENDARIO', con=engine, if_exists='replace', index=False, dtype=dtype_sql_calendario)\n",
    "\n",
    "print(\"Tabla CALENDARIO creada exitosamente con los datos de fechas.\")\n",
    "\n",
    "with engine.connect() as connection:\n",
    "    # Asegurarse de que la columna FECHA no tenga valores nulos y sea NOT NULL\n",
    "    connection.execute(text(\"\"\"\n",
    "        ALTER TABLE CALENDARIO\n",
    "        ALTER COLUMN FECHA DATE NOT NULL;\n",
    "    \"\"\"))\n",
    "\n",
    "    # Agregar clave primaria a la tabla CALENDARIO\n",
    "    connection.execute(text(\"\"\"\n",
    "        ALTER TABLE CALENDARIO\n",
    "        ADD CONSTRAINT PK_FECHA PRIMARY KEY (FECHA);\n",
    "    \"\"\"))\n",
    "\n",
    "print(\"Clave primaria agregada exitosamente a la tabla CALENDARIO.\")"
   ]
  }
 ],
 "metadata": {
  "kernelspec": {
   "display_name": "Python 3",
   "language": "python",
   "name": "python3"
  },
  "language_info": {
   "codemirror_mode": {
    "name": "ipython",
    "version": 3
   },
   "file_extension": ".py",
   "mimetype": "text/x-python",
   "name": "python",
   "nbconvert_exporter": "python",
   "pygments_lexer": "ipython3",
   "version": "3.12.2"
  }
 },
 "nbformat": 4,
 "nbformat_minor": 2
}
