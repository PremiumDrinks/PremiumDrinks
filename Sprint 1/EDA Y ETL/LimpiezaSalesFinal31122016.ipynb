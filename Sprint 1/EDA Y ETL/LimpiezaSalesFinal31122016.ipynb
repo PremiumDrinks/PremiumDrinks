{
 "cells": [
  {
   "cell_type": "markdown",
   "metadata": {},
   "source": [
    " Instalación de las librerías necesarias"
   ]
  },
  {
   "cell_type": "code",
   "execution_count": 3,
   "metadata": {},
   "outputs": [
    {
     "name": "stdout",
     "output_type": "stream",
     "text": [
      "Requirement already satisfied: pandas in c:\\users\\bianc\\appdata\\local\\programs\\python\\python312\\lib\\site-packages (2.2.2)\n",
      "Requirement already satisfied: numpy in c:\\users\\bianc\\appdata\\local\\programs\\python\\python312\\lib\\site-packages (2.1.0)\n",
      "Requirement already satisfied: matplotlib in c:\\users\\bianc\\appdata\\local\\programs\\python\\python312\\lib\\site-packages (3.9.2)\n",
      "Requirement already satisfied: seaborn in c:\\users\\bianc\\appdata\\local\\programs\\python\\python312\\lib\\site-packages (0.13.2)\n",
      "Requirement already satisfied: python-dateutil>=2.8.2 in c:\\users\\bianc\\appdata\\roaming\\python\\python312\\site-packages (from pandas) (2.9.0.post0)\n",
      "Requirement already satisfied: pytz>=2020.1 in c:\\users\\bianc\\appdata\\local\\programs\\python\\python312\\lib\\site-packages (from pandas) (2024.1)\n",
      "Requirement already satisfied: tzdata>=2022.7 in c:\\users\\bianc\\appdata\\local\\programs\\python\\python312\\lib\\site-packages (from pandas) (2024.1)\n",
      "Requirement already satisfied: contourpy>=1.0.1 in c:\\users\\bianc\\appdata\\local\\programs\\python\\python312\\lib\\site-packages (from matplotlib) (1.3.0)\n",
      "Requirement already satisfied: cycler>=0.10 in c:\\users\\bianc\\appdata\\local\\programs\\python\\python312\\lib\\site-packages (from matplotlib) (0.12.1)\n",
      "Requirement already satisfied: fonttools>=4.22.0 in c:\\users\\bianc\\appdata\\local\\programs\\python\\python312\\lib\\site-packages (from matplotlib) (4.53.1)\n",
      "Requirement already satisfied: kiwisolver>=1.3.1 in c:\\users\\bianc\\appdata\\local\\programs\\python\\python312\\lib\\site-packages (from matplotlib) (1.4.7)\n",
      "Requirement already satisfied: packaging>=20.0 in c:\\users\\bianc\\appdata\\roaming\\python\\python312\\site-packages (from matplotlib) (24.1)\n",
      "Requirement already satisfied: pillow>=8 in c:\\users\\bianc\\appdata\\local\\programs\\python\\python312\\lib\\site-packages (from matplotlib) (10.4.0)\n",
      "Requirement already satisfied: pyparsing>=2.3.1 in c:\\users\\bianc\\appdata\\local\\programs\\python\\python312\\lib\\site-packages (from matplotlib) (3.1.4)\n",
      "Requirement already satisfied: six>=1.5 in c:\\users\\bianc\\appdata\\roaming\\python\\python312\\site-packages (from python-dateutil>=2.8.2->pandas) (1.16.0)\n"
     ]
    },
    {
     "name": "stderr",
     "output_type": "stream",
     "text": [
      "\n",
      "[notice] A new release of pip is available: 24.0 -> 24.2\n",
      "[notice] To update, run: python.exe -m pip install --upgrade pip\n"
     ]
    }
   ],
   "source": [
    "! pip install pandas numpy matplotlib seaborn"
   ]
  },
  {
   "cell_type": "code",
   "execution_count": 2,
   "metadata": {},
   "outputs": [],
   "source": [
    "! pip freeze > requirements.txt"
   ]
  },
  {
   "cell_type": "markdown",
   "metadata": {},
   "source": [
    "Carga del archivo CSV en un Dataframe de Pandas:"
   ]
  },
  {
   "cell_type": "code",
   "execution_count": 28,
   "metadata": {},
   "outputs": [],
   "source": [
    "import pandas as pd\n",
    "\n",
    "# Carga del archivo CSV\n",
    "df = pd.read_csv(r'C:\\Users\\bianc\\OneDrive\\Escritorio\\proyectofinal\\SalesFINAL12312016_Clean.csv')"
   ]
  },
  {
   "cell_type": "code",
   "execution_count": 29,
   "metadata": {},
   "outputs": [
    {
     "name": "stdout",
     "output_type": "stream",
     "text": [
      "           InventoryId  Store  Brand                 Description        Size  \\\n",
      "0  1_HARDERSFIELD_1004      1   1004  Jim Beam w/2 Rocks Glasses       750mL   \n",
      "1  1_HARDERSFIELD_1004      1   1004  Jim Beam w/2 Rocks Glasses       750mL   \n",
      "2  1_HARDERSFIELD_1004      1   1004  Jim Beam w/2 Rocks Glasses       750mL   \n",
      "3  1_HARDERSFIELD_1004      1   1004  Jim Beam w/2 Rocks Glasses       750mL   \n",
      "4  1_HARDERSFIELD_1005      1   1005     Maker's Mark Combo Pack  375mL 2 Pk   \n",
      "\n",
      "   SalesQuantity  SalesDollars  SalesPrice SalesDate  Volume  Classification  \\\n",
      "0              1         16.49       16.49  1/1/2016     750               1   \n",
      "1              2         32.98       16.49  1/2/2016     750               1   \n",
      "2              1         16.49       16.49  1/3/2016     750               1   \n",
      "3              1         14.49       14.49  1/8/2016     750               1   \n",
      "4              2         69.98       34.99  1/9/2016     375               1   \n",
      "\n",
      "   ExciseTax  VendorNo                   VendorName  \n",
      "0       0.79     12546  JIM BEAM BRANDS COMPANY      \n",
      "1       1.57     12546  JIM BEAM BRANDS COMPANY      \n",
      "2       0.79     12546  JIM BEAM BRANDS COMPANY      \n",
      "3       0.79     12546  JIM BEAM BRANDS COMPANY      \n",
      "4       0.79     12546  JIM BEAM BRANDS COMPANY      \n"
     ]
    }
   ],
   "source": [
    "print(df.head())  # Muestra las primeras filas"
   ]
  },
  {
   "cell_type": "code",
   "execution_count": 39,
   "metadata": {},
   "outputs": [],
   "source": [
    "import warnings\n",
    "warnings.filterwarnings(\"ignore\")"
   ]
  },
  {
   "cell_type": "code",
   "execution_count": 31,
   "metadata": {},
   "outputs": [],
   "source": [
    "df.rename(columns={\n",
    "    'InventoryId': 'InventarioID',\n",
    "    'Store': 'Tienda',\n",
    "    'Brand': 'Marca',\n",
    "    'Description': 'Descripción',\n",
    "    'Size': 'Tamaño',\n",
    "    'SalesQuantity': 'CantidadVendida',\n",
    "    'SalesDollars': 'VentasDólares',\n",
    "    'SalesPrice': 'PrecioVenta',\n",
    "    'SalesDate': 'FechaVenta',\n",
    "    'Volume': 'Volumen',\n",
    "    'Classification': 'Clasificación',\n",
    "    'ExciseTax': 'ImpuestoEspecial',\n",
    "    'VendorNo': 'NúmeroProveedor',\n",
    "    'VendorName': 'NombreProveedor'\n",
    "}, inplace=True)"
   ]
  },
  {
   "cell_type": "code",
   "execution_count": 32,
   "metadata": {},
   "outputs": [
    {
     "name": "stdout",
     "output_type": "stream",
     "text": [
      "          InventarioID  Tienda  Marca                 Descripción      Tamaño  \\\n",
      "0  1_HARDERSFIELD_1004       1   1004  Jim Beam w/2 Rocks Glasses       750mL   \n",
      "1  1_HARDERSFIELD_1004       1   1004  Jim Beam w/2 Rocks Glasses       750mL   \n",
      "2  1_HARDERSFIELD_1004       1   1004  Jim Beam w/2 Rocks Glasses       750mL   \n",
      "3  1_HARDERSFIELD_1004       1   1004  Jim Beam w/2 Rocks Glasses       750mL   \n",
      "4  1_HARDERSFIELD_1005       1   1005     Maker's Mark Combo Pack  375mL 2 Pk   \n",
      "\n",
      "   CantidadVendida  VentasDólares  PrecioVenta FechaVenta  Volumen  \\\n",
      "0                1          16.49        16.49   1/1/2016      750   \n",
      "1                2          32.98        16.49   1/2/2016      750   \n",
      "2                1          16.49        16.49   1/3/2016      750   \n",
      "3                1          14.49        14.49   1/8/2016      750   \n",
      "4                2          69.98        34.99   1/9/2016      375   \n",
      "\n",
      "   Clasificación  ImpuestoEspecial  NúmeroProveedor  \\\n",
      "0              1              0.79            12546   \n",
      "1              1              1.57            12546   \n",
      "2              1              0.79            12546   \n",
      "3              1              0.79            12546   \n",
      "4              1              0.79            12546   \n",
      "\n",
      "               NombreProveedor  \n",
      "0  JIM BEAM BRANDS COMPANY      \n",
      "1  JIM BEAM BRANDS COMPANY      \n",
      "2  JIM BEAM BRANDS COMPANY      \n",
      "3  JIM BEAM BRANDS COMPANY      \n",
      "4  JIM BEAM BRANDS COMPANY      \n"
     ]
    }
   ],
   "source": [
    "print(df.head())  # Muestra las primeras filas"
   ]
  },
  {
   "cell_type": "markdown",
   "metadata": {},
   "source": [
    "Elimino las columnas que no voy a utilizar:"
   ]
  },
  {
   "cell_type": "code",
   "execution_count": 33,
   "metadata": {},
   "outputs": [],
   "source": [
    "df.drop(columns=['Tamaño', 'VentasDólares', 'Volumen', 'Clasificación', 'NombreProveedor'], inplace=True)"
   ]
  },
  {
   "cell_type": "code",
   "execution_count": 34,
   "metadata": {},
   "outputs": [
    {
     "name": "stdout",
     "output_type": "stream",
     "text": [
      "          InventarioID  Tienda  Marca                 Descripción  \\\n",
      "0  1_HARDERSFIELD_1004       1   1004  Jim Beam w/2 Rocks Glasses   \n",
      "1  1_HARDERSFIELD_1004       1   1004  Jim Beam w/2 Rocks Glasses   \n",
      "2  1_HARDERSFIELD_1004       1   1004  Jim Beam w/2 Rocks Glasses   \n",
      "3  1_HARDERSFIELD_1004       1   1004  Jim Beam w/2 Rocks Glasses   \n",
      "4  1_HARDERSFIELD_1005       1   1005     Maker's Mark Combo Pack   \n",
      "\n",
      "   CantidadVendida  PrecioVenta FechaVenta  ImpuestoEspecial  NúmeroProveedor  \n",
      "0                1        16.49   1/1/2016              0.79            12546  \n",
      "1                2        16.49   1/2/2016              1.57            12546  \n",
      "2                1        16.49   1/3/2016              0.79            12546  \n",
      "3                1        14.49   1/8/2016              0.79            12546  \n",
      "4                2        34.99   1/9/2016              0.79            12546  \n"
     ]
    }
   ],
   "source": [
    "print(df.head())  # Muestra las primeras filas"
   ]
  },
  {
   "cell_type": "code",
   "execution_count": 40,
   "metadata": {},
   "outputs": [],
   "source": [
    "df.rename(columns={\n",
    "    'EnExistencia': 'ImpuestoEspecial',\n",
    "    \n",
    "}, inplace=True)"
   ]
  },
  {
   "cell_type": "code",
   "execution_count": 36,
   "metadata": {},
   "outputs": [],
   "source": [
    "! pip freeze > requirements.txt"
   ]
  },
  {
   "cell_type": "code",
   "execution_count": 37,
   "metadata": {},
   "outputs": [
    {
     "name": "stdout",
     "output_type": "stream",
     "text": [
      "<class 'pandas.core.frame.DataFrame'>\n",
      "RangeIndex: 1048575 entries, 0 to 1048574\n",
      "Data columns (total 9 columns):\n",
      " #   Column            Non-Null Count    Dtype  \n",
      "---  ------            --------------    -----  \n",
      " 0   InventarioID      1048575 non-null  object \n",
      " 1   Tienda            1048575 non-null  int64  \n",
      " 2   Marca             1048575 non-null  int64  \n",
      " 3   Descripción       1048575 non-null  object \n",
      " 4   CantidadVendida   1048575 non-null  int64  \n",
      " 5   PrecioVenta       1048575 non-null  float64\n",
      " 6   FechaVenta        1048575 non-null  object \n",
      " 7   ImpuestoEspecial  1048575 non-null  float64\n",
      " 8   NúmeroProveedor   1048575 non-null  int64  \n",
      "dtypes: float64(2), int64(4), object(3)\n",
      "memory usage: 72.0+ MB\n",
      "None\n"
     ]
    }
   ],
   "source": [
    "print(df.info())  # Información de columnas y tipos de datos"
   ]
  },
  {
   "cell_type": "markdown",
   "metadata": {},
   "source": [
    "Visualización del tamaño del Dataframe (Filas y Columnas):"
   ]
  },
  {
   "cell_type": "code",
   "execution_count": 41,
   "metadata": {},
   "outputs": [],
   "source": [
    "import numpy as np"
   ]
  },
  {
   "cell_type": "code",
   "execution_count": 16,
   "metadata": {},
   "outputs": [
    {
     "data": {
      "text/plain": [
       "(1048575, 9)"
      ]
     },
     "execution_count": 16,
     "metadata": {},
     "output_type": "execute_result"
    }
   ],
   "source": [
    "np.shape(df)"
   ]
  },
  {
   "cell_type": "markdown",
   "metadata": {},
   "source": [
    "Conversión del tipo de datos:"
   ]
  },
  {
   "cell_type": "code",
   "execution_count": 42,
   "metadata": {},
   "outputs": [],
   "source": [
    "df['FechaVenta'] = pd.to_datetime(df['FechaVenta'], format='%m/%d/%Y')\n",
    "df['CantidadVendida'] = pd.to_numeric(df['CantidadVendida'], errors='coerce')\n",
    "df['PrecioVenta'] = pd.to_numeric(df['PrecioVenta'], errors='coerce')\n",
    "df['ImpuestoEspecial'] = pd.to_numeric(df['ImpuestoEspecial'], errors='coerce')"
   ]
  },
  {
   "cell_type": "code",
   "execution_count": 43,
   "metadata": {},
   "outputs": [
    {
     "data": {
      "text/plain": [
       "InventarioID        0\n",
       "Tienda              0\n",
       "Marca               0\n",
       "Descripción         0\n",
       "CantidadVendida     0\n",
       "PrecioVenta         0\n",
       "FechaVenta          0\n",
       "ImpuestoEspecial    0\n",
       "NúmeroProveedor     0\n",
       "dtype: int64"
      ]
     },
     "execution_count": 43,
     "metadata": {},
     "output_type": "execute_result"
    }
   ],
   "source": [
    "df.isnull().sum() #busco nulos"
   ]
  },
  {
   "cell_type": "code",
   "execution_count": 44,
   "metadata": {},
   "outputs": [
    {
     "name": "stdout",
     "output_type": "stream",
     "text": [
      "Empty DataFrame\n",
      "Columns: [InventarioID, Tienda, Marca, Descripción, CantidadVendida, PrecioVenta, FechaVenta, ImpuestoEspecial, NúmeroProveedor]\n",
      "Index: []\n"
     ]
    }
   ],
   "source": [
    "duplicados = df[df.duplicated()]\n",
    "\n",
    "print(duplicados)"
   ]
  },
  {
   "cell_type": "markdown",
   "metadata": {},
   "source": [
    "No se encontraron duplicados"
   ]
  },
  {
   "cell_type": "code",
   "execution_count": 45,
   "metadata": {},
   "outputs": [
    {
     "name": "stdout",
     "output_type": "stream",
     "text": [
      "<class 'pandas.core.frame.DataFrame'>\n",
      "RangeIndex: 1048575 entries, 0 to 1048574\n",
      "Data columns (total 9 columns):\n",
      " #   Column            Non-Null Count    Dtype         \n",
      "---  ------            --------------    -----         \n",
      " 0   InventarioID      1048575 non-null  object        \n",
      " 1   Tienda            1048575 non-null  int64         \n",
      " 2   Marca             1048575 non-null  int64         \n",
      " 3   Descripción       1048575 non-null  object        \n",
      " 4   CantidadVendida   1048575 non-null  int64         \n",
      " 5   PrecioVenta       1048575 non-null  float64       \n",
      " 6   FechaVenta        1048575 non-null  datetime64[ns]\n",
      " 7   ImpuestoEspecial  1048575 non-null  float64       \n",
      " 8   NúmeroProveedor   1048575 non-null  int64         \n",
      "dtypes: datetime64[ns](1), float64(2), int64(4), object(2)\n",
      "memory usage: 72.0+ MB\n",
      "None\n"
     ]
    }
   ],
   "source": [
    "print(df.info())  # Información de columnas y tipos de datos"
   ]
  },
  {
   "cell_type": "code",
   "execution_count": 46,
   "metadata": {},
   "outputs": [],
   "source": [
    "import matplotlib.pyplot as plt\n",
    "import seaborn as sns"
   ]
  },
  {
   "cell_type": "code",
   "execution_count": 47,
   "metadata": {},
   "outputs": [
    {
     "data": {
      "image/png": "[encoded data removed]",
      "text/plain": [
       "<Figure size 640x480 with 1 Axes>"
      ]
     },
     "metadata": {},
     "output_type": "display_data"
    }
   ],
   "source": [
    "# Relación entre PrecioVenta y CantidadVendida\n",
    "sns.scatterplot(data=df, x='PrecioVenta', y='CantidadVendida')\n",
    "plt.show()"
   ]
  },
  {
   "cell_type": "code",
   "execution_count": 1,
   "metadata": {},
   "outputs": [
    {
     "name": "stdout",
     "output_type": "stream",
     "text": [
      "Requirement already satisfied: sqlalchemy in c:\\users\\bianc\\appdata\\local\\programs\\python\\python312\\lib\\site-packages (2.0.35)\n",
      "Requirement already satisfied: pyodbc in c:\\users\\bianc\\appdata\\local\\programs\\python\\python312\\lib\\site-packages (5.1.0)\n",
      "Requirement already satisfied: typing-extensions>=4.6.0 in c:\\users\\bianc\\appdata\\local\\programs\\python\\python312\\lib\\site-packages (from sqlalchemy) (4.12.2)\n",
      "Requirement already satisfied: greenlet!=0.4.17 in c:\\users\\bianc\\appdata\\local\\programs\\python\\python312\\lib\\site-packages (from sqlalchemy) (3.1.1)\n",
      "Note: you may need to restart the kernel to use updated packages.\n"
     ]
    },
    {
     "name": "stderr",
     "output_type": "stream",
     "text": [
      "\n",
      "[notice] A new release of pip is available: 24.0 -> 24.2\n",
      "[notice] To update, run: python.exe -m pip install --upgrade pip\n"
     ]
    }
   ],
   "source": [
    "pip install sqlalchemy pyodbc"
   ]
  },
  {
   "cell_type": "code",
   "execution_count": 48,
   "metadata": {},
   "outputs": [
    {
     "name": "stdout",
     "output_type": "stream",
     "text": [
      "Tienda\n",
      "Mediana: 39.0\n",
      "Varianza:  593.28\n",
      "Rango: 78\n",
      "Moda: 15\n",
      "--------------------------------\n",
      "Marca\n",
      "Mediana: 6296.0\n",
      "Varianza:  154236867.07\n",
      "Rango: 90031\n",
      "Moda: 3606\n",
      "--------------------------------\n",
      "CantidadVendida\n",
      "Mediana: 1.0\n",
      "Varianza:  12.33\n",
      "Rango: 431\n",
      "Moda: 1\n",
      "--------------------------------\n",
      "PrecioVenta\n",
      "Mediana: 12.99\n",
      "Varianza:  197.39\n",
      "Rango: 4999.5\n",
      "Moda: 9.99\n",
      "--------------------------------\n",
      "ImpuestoEspecial\n",
      "Mediana: 0.68\n",
      "Varianza:  11.61\n",
      "Rango: 378.51\n",
      "Moda: 0.79\n",
      "--------------------------------\n",
      "NúmeroProveedor\n",
      "Mediana: 4425.0\n",
      "Varianza:  71009874.8\n",
      "Rango: 173355\n",
      "Moda: 3960\n",
      "--------------------------------\n"
     ]
    }
   ],
   "source": [
    "def calcular_estadisticas(data): \n",
    "    for columna in data.columns:\n",
    "        if data[columna].dtype == 'float64' or data[columna].dtype == 'int64':\n",
    "            print(columna)\n",
    "            print('Mediana:', data[columna].median())\n",
    "            print('Varianza: ', np.around((data[columna].var()),decimals=2)) # Casteo (redondeo) a 2 decimales\n",
    "            print('Rango:', data[columna].max() - data[columna].min())\n",
    "            print('Moda:', data[columna].mode()[0])\n",
    "            print('--------------------------------')\n",
    "\n",
    "calcular_estadisticas(df)"
   ]
  },
  {
   "cell_type": "code",
   "execution_count": 49,
   "metadata": {},
   "outputs": [],
   "source": [
    "# Guardar el DataFrame transformado\n",
    "df.to_csv(r'C:\\Users\\bianc\\OneDrive\\Escritorio\\proyectofinal\\LimpiezaSalesFinal31122016', index=False)   "
   ]
  },
  {
   "cell_type": "code",
   "execution_count": 50,
   "metadata": {},
   "outputs": [],
   "source": [
    "#carga archivo csv\n",
    "df2 = pd.read_csv(r'C:\\Users\\bianc\\OneDrive\\Escritorio\\proyectofinal\\LimpiezaSalesFinal31122016')"
   ]
  },
  {
   "cell_type": "code",
   "execution_count": 51,
   "metadata": {},
   "outputs": [
    {
     "name": "stdout",
     "output_type": "stream",
     "text": [
      "<class 'pandas.core.frame.DataFrame'>\n",
      "RangeIndex: 1048575 entries, 0 to 1048574\n",
      "Data columns (total 9 columns):\n",
      " #   Column            Non-Null Count    Dtype  \n",
      "---  ------            --------------    -----  \n",
      " 0   InventarioID      1048575 non-null  object \n",
      " 1   Tienda            1048575 non-null  int64  \n",
      " 2   Marca             1048575 non-null  int64  \n",
      " 3   Descripción       1048575 non-null  object \n",
      " 4   CantidadVendida   1048575 non-null  int64  \n",
      " 5   PrecioVenta       1048575 non-null  float64\n",
      " 6   FechaVenta        1048575 non-null  object \n",
      " 7   ImpuestoEspecial  1048575 non-null  float64\n",
      " 8   NúmeroProveedor   1048575 non-null  int64  \n",
      "dtypes: float64(2), int64(4), object(3)\n",
      "memory usage: 72.0+ MB\n",
      "None\n"
     ]
    }
   ],
   "source": [
    "print(df2.info()) "
   ]
  },
  {
   "cell_type": "code",
   "execution_count": 53,
   "metadata": {},
   "outputs": [
    {
     "name": "stdout",
     "output_type": "stream",
     "text": [
      "Datos exportados exitosamente a la tabla Ventas2016 en la base de datos PremiumDrinks\n"
     ]
    }
   ],
   "source": [
    "import pyodbc\n",
    "import pandas as pd\n",
    "from sqlalchemy import create_engine, types\n",
    "\n",
    "ventas_df = pd.read_csv(r'C:\\Users\\bianc\\OneDrive\\Escritorio\\proyectofinal\\LimpiezaSalesFinal31122016')\n",
    "# Asegurar que las columnas tengan los tipos de datos correctos\n",
    "ventas_df['InventarioID'] = ventas_df['InventarioID'].astype(str)  # Convertir a string para usar VARCHAR en SQL\n",
    "ventas_df['FechaVenta'] = pd.to_datetime(ventas_df['FechaVenta'])  # Asegurar que la fecha esté en formato datetime\n",
    "\n",
    "# Crear la conexión con SQL Server usando autenticación de Windows\n",
    "# Usando el nombre del servidor SQLEXPRESS y Trusted Connection\n",
    "engine = create_engine('mssql+pyodbc://BIANCA\\SQLEXPRESS/PremiumDrinks?trusted_connection=yes&driver=ODBC+Driver+18+for+SQL+Server&TrustServerCertificate=yes')\n",
    "\n",
    "# Especificar los tipos de datos para cada columna en SQL Server\n",
    "dtype_sql = {\n",
    "    'InventarioID': types.VARCHAR(length=50),  # VARCHAR en SQL Server\n",
    "    'Tienda': types.INTEGER,\n",
    "    'Marca': types.INTEGER,\n",
    "    'Descripción': types.VARCHAR(length=255),  # VARCHAR para descripción\n",
    "    'CantidadVendida': types.FLOAT,\n",
    "    'PrecioVenta': types.FLOAT,\n",
    "    'FechaVenta': types.DATETIME,\n",
    "    'ImpuestoEspecial': types.FLOAT,\n",
    "    'NúmeroProveedor': types.INTEGER\n",
    "}\n",
    "\n",
    "# Exportar el DataFrame a una tabla SQL llamada Ventas2016\n",
    "ventas_df.to_sql('Ventas2016', con=engine, if_exists='replace', index=False, dtype=dtype_sql)\n",
    "\n",
    "print(\"Datos exportados exitosamente a la tabla Ventas2016 en la base de datos PremiumDrinks\")"
   ]
  }
 ],
 "metadata": {
  "kernelspec": {
   "display_name": "Python 3",
   "language": "python",
   "name": "python3"
  },
  "language_info": {
   "codemirror_mode": {
    "name": "ipython",
    "version": 3
   },
   "file_extension": ".py",
   "mimetype": "text/x-python",
   "name": "python",
   "nbconvert_exporter": "python",
   "pygments_lexer": "ipython3",
   "version": "3.12.2"
  }
 },
 "nbformat": 4,
 "nbformat_minor": 2
}
